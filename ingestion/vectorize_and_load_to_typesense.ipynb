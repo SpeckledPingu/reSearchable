{
 "cells": [
  {
   "cell_type": "code",
   "execution_count": 14,
   "metadata": {
    "collapsed": true,
    "ExecuteTime": {
     "start_time": "2023-06-10T17:59:39.507569Z",
     "end_time": "2023-06-10T17:59:42.819266Z"
    }
   },
   "outputs": [
    {
     "name": "stderr",
     "output_type": "stream",
     "text": [
      "2023-06-10 17:59:41.207014: I tensorflow/core/platform/cpu_feature_guard.cc:193] This TensorFlow binary is optimized with oneAPI Deep Neural Network Library (oneDNN) to use the following CPU instructions in performance-critical operations:  AVX2 AVX512F AVX512_VNNI FMA\n",
      "To enable them in other operations, rebuild TensorFlow with the appropriate compiler flags.\n",
      "2023-06-10 17:59:41.435098: I tensorflow/core/util/port.cc:104] oneDNN custom operations are on. You may see slightly different numerical results due to floating-point round-off errors from different computation orders. To turn them off, set the environment variable `TF_ENABLE_ONEDNN_OPTS=0`.\n",
      "2023-06-10 17:59:42.059824: W tensorflow/compiler/xla/stream_executor/platform/default/dso_loader.cc:64] Could not load dynamic library 'libnvinfer.so.7'; dlerror: libnvinfer.so.7: cannot open shared object file: No such file or directory\n",
      "2023-06-10 17:59:42.059887: W tensorflow/compiler/xla/stream_executor/platform/default/dso_loader.cc:64] Could not load dynamic library 'libnvinfer_plugin.so.7'; dlerror: libnvinfer_plugin.so.7: cannot open shared object file: No such file or directory\n",
      "2023-06-10 17:59:42.059891: W tensorflow/compiler/tf2tensorrt/utils/py_utils.cc:38] TF-TRT Warning: Cannot dlopen some TensorRT libraries. If you would like to use Nvidia GPU with TensorRT, please make sure the missing libraries mentioned above are installed properly.\n"
     ]
    }
   ],
   "source": [
    "import pandas as pd\n",
    "import numpy as np\n",
    "import json\n",
    "import gzip\n",
    "from typesense import Client\n",
    "from tqdm.auto import tqdm\n",
    "from pathlib import Path\n",
    "from sentence_transformers import SentenceTransformer"
   ]
  },
  {
   "cell_type": "code",
   "execution_count": 6,
   "outputs": [],
   "source": [
    "data_dir = Path('/home/jameslittiebrant/DataspellProjects/hybridSearch/data/small-all-news/')\n",
    "csvs = sorted(data_dir.glob('*.csv'))"
   ],
   "metadata": {
    "collapsed": false,
    "ExecuteTime": {
     "start_time": "2023-06-10T17:57:53.793574Z",
     "end_time": "2023-06-10T17:57:53.800742Z"
    }
   }
  },
  {
   "cell_type": "code",
   "execution_count": 8,
   "outputs": [],
   "source": [
    "df = pd.concat([pd.read_csv(file) for file in csvs])"
   ],
   "metadata": {
    "collapsed": false,
    "ExecuteTime": {
     "start_time": "2023-06-10T17:58:13.122380Z",
     "end_time": "2023-06-10T17:58:18.899718Z"
    }
   }
  },
  {
   "cell_type": "code",
   "execution_count": 9,
   "outputs": [
    {
     "data": {
      "text/plain": "   Unnamed: 0     id                                              title  \\\n0           0  17283  House Republicans Fret About Winning Their Hea...   \n1           1  17284  Rift Between Officers and Residents as Killing...   \n2           2  17285  Tyrus Wong, ‘Bambi’ Artist Thwarted by Racial ...   \n3           3  17286  Among Deaths in 2016, a Heavy Toll in Pop Musi...   \n4           4  17287  Kim Jong-un Says North Korea Is Preparing to T...   \n\n      publication                         author        date    year  month  \\\n0  New York Times                     Carl Hulse  2016-12-31  2016.0   12.0   \n1  New York Times  Benjamin Mueller and Al Baker  2017-06-19  2017.0    6.0   \n2  New York Times                   Margalit Fox  2017-01-06  2017.0    1.0   \n3  New York Times               William McDonald  2017-04-10  2017.0    4.0   \n4  New York Times                  Choe Sang-Hun  2017-01-02  2017.0    1.0   \n\n   url                                            content  \n0  NaN  WASHINGTON  —   Congressional Republicans have...  \n1  NaN  After the bullet shells get counted, the blood...  \n2  NaN  When Walt Disney’s “Bambi” opened in 1942, cri...  \n3  NaN  Death may be the great equalizer, but it isn’t...  \n4  NaN  SEOUL, South Korea  —   North Korea’s leader, ...  ",
      "text/html": "<div>\n<style scoped>\n    .dataframe tbody tr th:only-of-type {\n        vertical-align: middle;\n    }\n\n    .dataframe tbody tr th {\n        vertical-align: top;\n    }\n\n    .dataframe thead th {\n        text-align: right;\n    }\n</style>\n<table border=\"1\" class=\"dataframe\">\n  <thead>\n    <tr style=\"text-align: right;\">\n      <th></th>\n      <th>Unnamed: 0</th>\n      <th>id</th>\n      <th>title</th>\n      <th>publication</th>\n      <th>author</th>\n      <th>date</th>\n      <th>year</th>\n      <th>month</th>\n      <th>url</th>\n      <th>content</th>\n    </tr>\n  </thead>\n  <tbody>\n    <tr>\n      <th>0</th>\n      <td>0</td>\n      <td>17283</td>\n      <td>House Republicans Fret About Winning Their Hea...</td>\n      <td>New York Times</td>\n      <td>Carl Hulse</td>\n      <td>2016-12-31</td>\n      <td>2016.0</td>\n      <td>12.0</td>\n      <td>NaN</td>\n      <td>WASHINGTON  —   Congressional Republicans have...</td>\n    </tr>\n    <tr>\n      <th>1</th>\n      <td>1</td>\n      <td>17284</td>\n      <td>Rift Between Officers and Residents as Killing...</td>\n      <td>New York Times</td>\n      <td>Benjamin Mueller and Al Baker</td>\n      <td>2017-06-19</td>\n      <td>2017.0</td>\n      <td>6.0</td>\n      <td>NaN</td>\n      <td>After the bullet shells get counted, the blood...</td>\n    </tr>\n    <tr>\n      <th>2</th>\n      <td>2</td>\n      <td>17285</td>\n      <td>Tyrus Wong, ‘Bambi’ Artist Thwarted by Racial ...</td>\n      <td>New York Times</td>\n      <td>Margalit Fox</td>\n      <td>2017-01-06</td>\n      <td>2017.0</td>\n      <td>1.0</td>\n      <td>NaN</td>\n      <td>When Walt Disney’s “Bambi” opened in 1942, cri...</td>\n    </tr>\n    <tr>\n      <th>3</th>\n      <td>3</td>\n      <td>17286</td>\n      <td>Among Deaths in 2016, a Heavy Toll in Pop Musi...</td>\n      <td>New York Times</td>\n      <td>William McDonald</td>\n      <td>2017-04-10</td>\n      <td>2017.0</td>\n      <td>4.0</td>\n      <td>NaN</td>\n      <td>Death may be the great equalizer, but it isn’t...</td>\n    </tr>\n    <tr>\n      <th>4</th>\n      <td>4</td>\n      <td>17287</td>\n      <td>Kim Jong-un Says North Korea Is Preparing to T...</td>\n      <td>New York Times</td>\n      <td>Choe Sang-Hun</td>\n      <td>2017-01-02</td>\n      <td>2017.0</td>\n      <td>1.0</td>\n      <td>NaN</td>\n      <td>SEOUL, South Korea  —   North Korea’s leader, ...</td>\n    </tr>\n  </tbody>\n</table>\n</div>"
     },
     "execution_count": 9,
     "metadata": {},
     "output_type": "execute_result"
    }
   ],
   "source": [
    "df.head()"
   ],
   "metadata": {
    "collapsed": false,
    "ExecuteTime": {
     "start_time": "2023-06-10T17:58:18.902591Z",
     "end_time": "2023-06-10T17:58:18.933880Z"
    }
   }
  },
  {
   "cell_type": "code",
   "execution_count": 11,
   "outputs": [],
   "source": [
    "df = df.drop('Unnamed: 0', axis=1)"
   ],
   "metadata": {
    "collapsed": false,
    "ExecuteTime": {
     "start_time": "2023-06-10T17:58:41.362627Z",
     "end_time": "2023-06-10T17:58:41.366755Z"
    }
   }
  },
  {
   "cell_type": "code",
   "execution_count": 15,
   "outputs": [],
   "source": [
    "client = Client({\n",
    "    'nodes': [{\n",
    "        'host': 'localhost', # For Typesense Cloud use xxx.a1.typesense.net\n",
    "        'port': '8108',      # For Typesense Cloud use 443\n",
    "        'protocol': 'http'   # For Typesense Cloud use https\n",
    "    }],\n",
    "    'api_key': 'xyz',\n",
    "    'connection_timeout_seconds': 10\n",
    "})"
   ],
   "metadata": {
    "collapsed": false,
    "ExecuteTime": {
     "start_time": "2023-06-10T18:02:16.477517Z",
     "end_time": "2023-06-10T18:02:16.481017Z"
    }
   }
  },
  {
   "cell_type": "code",
   "execution_count": 16,
   "outputs": [
    {
     "data": {
      "text/plain": "True"
     },
     "execution_count": 16,
     "metadata": {},
     "output_type": "execute_result"
    }
   ],
   "source": [
    "client.operations.is_healthy()"
   ],
   "metadata": {
    "collapsed": false,
    "ExecuteTime": {
     "start_time": "2023-06-10T18:02:17.424034Z",
     "end_time": "2023-06-10T18:02:17.434779Z"
    }
   }
  },
  {
   "cell_type": "code",
   "execution_count": 17,
   "outputs": [
    {
     "data": {
      "text/plain": "id               int64\ntitle           object\npublication     object\nauthor          object\ndate            object\nyear           float64\nmonth          float64\nurl             object\ncontent         object\ndtype: object"
     },
     "execution_count": 17,
     "metadata": {},
     "output_type": "execute_result"
    }
   ],
   "source": [
    "df.dtypes"
   ],
   "metadata": {
    "collapsed": false,
    "ExecuteTime": {
     "start_time": "2023-06-10T18:02:19.422798Z",
     "end_time": "2023-06-10T18:02:19.427115Z"
    }
   }
  },
  {
   "cell_type": "code",
   "execution_count": 19,
   "outputs": [],
   "source": [
    "schema = {\n",
    "    'name': 'news',\n",
    "    'fields': [\n",
    "        {'name': 'id', 'type': 'int32' },\n",
    "        {'name': 'title', 'type': 'string'},\n",
    "        {'name': 'publication', 'type': 'string'},\n",
    "\n",
    "        {'name': 'author', 'type': 'string' },\n",
    "        {'name': 'date', 'type': 'string' },\n",
    "        {'name': 'year', 'type': 'float' },\n",
    "        {'name': 'month', 'type': 'float' },\n",
    "        {'name': 'url', 'type': 'string' },\n",
    "        {'name': 'content', 'type': 'string' },\n",
    "\n",
    "        {'name': 'keyphrases', 'type': 'string[]' },\n",
    "        {'name': 'people', 'type': 'string[]' },\n",
    "        {'name': 'organizations', 'type': 'string[]' },\n",
    "        {'name': 'locations', 'type': 'string[]' },\n",
    "        {'name': 'vec', 'type': 'float[]', 'num_dim':384 }\n",
    "    ]\n",
    "}"
   ],
   "metadata": {
    "collapsed": false,
    "ExecuteTime": {
     "start_time": "2023-06-10T18:02:26.705632Z",
     "end_time": "2023-06-10T18:02:26.748677Z"
    }
   }
  },
  {
   "cell_type": "code",
   "execution_count": 20,
   "outputs": [
    {
     "data": {
      "text/plain": "{'created_at': 1686434549,\n 'default_sorting_field': '',\n 'enable_nested_fields': False,\n 'fields': [{'facet': False,\n   'index': True,\n   'infix': False,\n   'locale': '',\n   'name': 'title',\n   'optional': False,\n   'sort': False,\n   'type': 'string'},\n  {'facet': False,\n   'index': True,\n   'infix': False,\n   'locale': '',\n   'name': 'publication',\n   'optional': False,\n   'sort': False,\n   'type': 'string'},\n  {'facet': False,\n   'index': True,\n   'infix': False,\n   'locale': '',\n   'name': 'author',\n   'optional': False,\n   'sort': False,\n   'type': 'string'},\n  {'facet': False,\n   'index': True,\n   'infix': False,\n   'locale': '',\n   'name': 'date',\n   'optional': False,\n   'sort': False,\n   'type': 'string'},\n  {'facet': False,\n   'index': True,\n   'infix': False,\n   'locale': '',\n   'name': 'year',\n   'optional': False,\n   'sort': True,\n   'type': 'float'},\n  {'facet': False,\n   'index': True,\n   'infix': False,\n   'locale': '',\n   'name': 'month',\n   'optional': False,\n   'sort': True,\n   'type': 'float'},\n  {'facet': False,\n   'index': True,\n   'infix': False,\n   'locale': '',\n   'name': 'url',\n   'optional': False,\n   'sort': False,\n   'type': 'string'},\n  {'facet': False,\n   'index': True,\n   'infix': False,\n   'locale': '',\n   'name': 'content',\n   'optional': False,\n   'sort': False,\n   'type': 'string'},\n  {'facet': False,\n   'index': True,\n   'infix': False,\n   'locale': '',\n   'name': 'keyphrases',\n   'optional': False,\n   'sort': False,\n   'type': 'string[]'},\n  {'facet': False,\n   'index': True,\n   'infix': False,\n   'locale': '',\n   'name': 'people',\n   'optional': False,\n   'sort': False,\n   'type': 'string[]'},\n  {'facet': False,\n   'index': True,\n   'infix': False,\n   'locale': '',\n   'name': 'organizations',\n   'optional': False,\n   'sort': False,\n   'type': 'string[]'},\n  {'facet': False,\n   'index': True,\n   'infix': False,\n   'locale': '',\n   'name': 'locations',\n   'optional': False,\n   'sort': False,\n   'type': 'string[]'},\n  {'facet': False,\n   'index': True,\n   'infix': False,\n   'locale': '',\n   'name': 'vec',\n   'num_dim': 384,\n   'optional': False,\n   'sort': False,\n   'type': 'float[]'}],\n 'name': 'news',\n 'num_documents': 0,\n 'symbols_to_index': [],\n 'token_separators': []}"
     },
     "execution_count": 20,
     "metadata": {},
     "output_type": "execute_result"
    }
   ],
   "source": [
    "client.collections.create(schema)"
   ],
   "metadata": {
    "collapsed": false,
    "ExecuteTime": {
     "start_time": "2023-06-10T18:02:29.841283Z",
     "end_time": "2023-06-10T18:02:29.850881Z"
    }
   }
  },
  {
   "cell_type": "markdown",
   "source": [
    "client.collections['news'].delete()"
   ],
   "metadata": {
    "collapsed": false
   }
  },
  {
   "cell_type": "code",
   "execution_count": 22,
   "outputs": [],
   "source": [
    "df['year'] = df['year'].fillna(1970)\n",
    "df['month'] = df['month'].fillna(1)\n",
    "df = df.fillna('')"
   ],
   "metadata": {
    "collapsed": false,
    "ExecuteTime": {
     "start_time": "2023-06-10T18:03:45.170310Z",
     "end_time": "2023-06-10T18:03:45.274956Z"
    }
   }
  },
  {
   "cell_type": "code",
   "execution_count": 23,
   "outputs": [],
   "source": [
    "df = df.to_dict(orient='records')"
   ],
   "metadata": {
    "collapsed": false,
    "ExecuteTime": {
     "start_time": "2023-06-10T18:03:55.537081Z",
     "end_time": "2023-06-10T18:03:56.176643Z"
    }
   }
  },
  {
   "cell_type": "code",
   "execution_count": 24,
   "outputs": [],
   "source": [
    "encoder = SentenceTransformer('all-MiniLM-L6-v2')"
   ],
   "metadata": {
    "collapsed": false,
    "ExecuteTime": {
     "start_time": "2023-06-10T18:14:27.388394Z",
     "end_time": "2023-06-10T18:14:27.713701Z"
    }
   }
  },
  {
   "cell_type": "code",
   "execution_count": 26,
   "outputs": [
    {
     "data": {
      "text/plain": "[-0.043169181793928146,\n 0.09082550555467606,\n 0.058354079723358154,\n -0.04722841829061508,\n 0.014962717890739441,\n 0.03772351145744324,\n 0.030215851962566376,\n 0.006577500142157078,\n 0.023697124794125557,\n 0.016201520338654518,\n -0.01949138380587101,\n 0.09316234290599823,\n 0.024865370243787766,\n -0.0639033168554306,\n -0.015670960769057274,\n 0.02200692892074585,\n 0.03845064342021942,\n -0.011750565841794014,\n -0.09076853096485138,\n 0.1558375507593155,\n -0.043601471930742264,\n 0.04033941030502319,\n -0.07877258956432343,\n 0.022272925823926926,\n -0.012625121511518955,\n 0.014968897216022015,\n -0.030939089134335518,\n -0.0744728147983551,\n -0.08111467212438583,\n -0.012672461569309235,\n 0.1257838010787964,\n -0.07562428712844849,\n -0.026806272566318512,\n 0.07473046332597733,\n 0.012640764936804771,\n 0.007119120564311743,\n -0.04998016729950905,\n -0.0029252765234559774,\n 0.017073018476366997,\n 0.010581588372588158,\n 0.02321448363363743,\n -0.026614241302013397,\n -0.04922764003276825,\n 0.05624394863843918,\n 0.03770847246050835,\n 0.0216482263058424,\n 0.04039504751563072,\n 0.03479788079857826,\n 0.07731796056032181,\n 0.033364538103342056,\n -0.031505994498729706,\n 0.0016689957119524479,\n 0.0313643179833889,\n 0.003500434337183833,\n 0.02730839140713215,\n -0.006393667310476303,\n 0.016520291566848755,\n -0.05104734003543854,\n -0.06463298201560974,\n 0.05459986627101898,\n 0.012352620251476765,\n -0.044389091432094574,\n 0.05230754613876343,\n 0.022251199930906296,\n -0.06272704154253006,\n 0.00920706894248724,\n 0.061062417924404144,\n -0.01976117677986622,\n 0.008504800498485565,\n -0.02052542380988598,\n 0.030238162726163864,\n 0.02353740856051445,\n 0.028323806822299957,\n -0.000985683873295784,\n 0.06937312334775925,\n -0.005922598764300346,\n -0.00011785369861172512,\n 0.07360602915287018,\n 0.11681143194437027,\n -0.07843291759490967,\n 0.034027986228466034,\n -0.024910392239689827,\n -0.036785516887903214,\n 0.03197481110692024,\n -0.0030455258674919605,\n -0.0005340530769899487,\n -0.06763952225446701,\n -0.037255581468343735,\n 0.04833893105387688,\n -0.06049045920372009,\n -0.05303271859884262,\n -0.06169727072119713,\n 0.032891228795051575,\n -0.04306485131382942,\n 0.03293076157569885,\n 0.02025921270251274,\n -0.0321260504424572,\n -0.05867079645395279,\n -0.013487761840224266,\n 0.05903986096382141,\n -0.045843154191970825,\n -0.03234202414751053,\n 0.043922603130340576,\n -0.046100687235593796,\n -0.046163201332092285,\n -0.05334260314702988,\n -0.06421781331300735,\n 0.016364336013793945,\n 0.06335656344890594,\n 0.04193858429789543,\n 0.04387355223298073,\n -0.019439199939370155,\n 0.06820347160100937,\n 0.02444389835000038,\n -0.01114673726260662,\n 0.056401535868644714,\n 0.05884129926562309,\n -0.07948616147041321,\n 0.0029057420324534178,\n -0.008542816154658794,\n 0.05242696776986122,\n 0.02810727432370186,\n -0.02815943956375122,\n -0.036729320883750916,\n 0.03425448760390282,\n 0.0058991312980651855,\n -0.054238755255937576,\n 2.429547356452013e-33,\n 0.053376421332359314,\n -0.008672515861690044,\n 0.03793846070766449,\n 0.005420105066150427,\n -0.01585986092686653,\n 0.03237714245915413,\n 0.002512024948373437,\n -0.0902714878320694,\n 0.017337271943688393,\n -0.015524406917393208,\n -0.11933863908052444,\n 0.030078517273068428,\n 0.011569728143513203,\n -0.021046821027994156,\n -0.08042345196008682,\n -0.06443242728710175,\n -0.13437694311141968,\n 0.012455987744033337,\n -0.040481239557266235,\n 0.0594310499727726,\n -0.03059833124279976,\n -0.0028577109333127737,\n 0.037588443607091904,\n 0.01898634061217308,\n -0.02324638143181801,\n -0.050835248082876205,\n 0.018469976261258125,\n -0.01961417682468891,\n 0.03463596850633621,\n -0.00564092630520463,\n -0.03962664678692818,\n 0.026325978338718414,\n -0.012285634875297546,\n 0.03523572161793709,\n -0.07140789180994034,\n -0.011805284768342972,\n -0.03232292830944061,\n 0.021210964769124985,\n -0.000469942664494738,\n -0.02642868645489216,\n -0.022854387760162354,\n 0.04312063008546829,\n 0.030202331021428108,\n 0.09575724601745605,\n 0.022164730355143547,\n -0.05106944218277931,\n 0.047688573598861694,\n -0.011638405732810497,\n -0.07408785820007324,\n -0.03300492838025093,\n 0.02073088102042675,\n 0.03838689625263214,\n 0.11859997361898422,\n -0.005242451094090939,\n -0.0393143892288208,\n -0.07671525329351425,\n -0.06497872620820999,\n -0.025016719475388527,\n -0.004677295219153166,\n -0.005047424230724573,\n 0.022966966032981873,\n 0.05336712300777435,\n -0.02353556826710701,\n 0.023316847160458565,\n -0.07891693711280823,\n 0.007124605588614941,\n -0.06558138132095337,\n -0.02194451540708542,\n 0.0027205029036849737,\n 0.015730155631899834,\n 0.045760784298181534,\n -0.05402906984090805,\n -0.012499252334237099,\n -0.0052505978383123875,\n -0.08998174965381622,\n -0.013690965250134468,\n -0.012106494046747684,\n -0.009061971679329872,\n 0.03469794616103172,\n -0.06314510852098465,\n -0.009075227193534374,\n -0.05286389961838722,\n 0.08210094273090363,\n 0.07990389317274094,\n 0.005076614674180746,\n -0.01073512714356184,\n 0.014526219107210636,\n -0.025751512497663498,\n -0.007490227930247784,\n -0.08594338595867157,\n -0.1018250361084938,\n 0.036175332963466644,\n 0.09765288233757019,\n 0.03709274157881737,\n 0.1170356422662735,\n -5.497927770775953e-33,\n -0.07524382323026657,\n -0.08805069327354431,\n -0.00018439270206727087,\n 0.012726912274956703,\n 0.058181773871183395,\n 0.004675987176597118,\n -0.01010750513523817,\n -0.10129518806934357,\n 0.05655212327837944,\n -0.06824488937854767,\n -0.07395938038825989,\n 0.028073040768504143,\n 0.023985907435417175,\n 0.011025775223970413,\n 0.051225848495960236,\n -0.020112324506044388,\n 0.04928825795650482,\n -0.06045854836702347,\n 0.01615285687148571,\n 0.041584450751543045,\n 0.06758438050746918,\n 0.10150701552629471,\n -0.0883622094988823,\n 0.12260153144598007,\n -0.06408753991127014,\n 0.023460660129785538,\n 0.03201776742935181,\n -0.07137074321508408,\n 0.08758721500635147,\n -0.0415574386715889,\n -0.11033182591199875,\n -0.019935866817831993,\n -0.049485448747873306,\n 0.01657806895673275,\n 0.027240674942731857,\n -0.021063242107629776,\n -0.03800835832953453,\n -0.028319576755166054,\n -0.0294400192797184,\n -0.0713663175702095,\n 0.1363835632801056,\n -0.11908765882253647,\n 0.0014786624815315008,\n 0.02887224592268467,\n 0.05280129611492157,\n -0.019887326285243034,\n -0.04306327551603317,\n 0.005584135185927153,\n -0.029794318601489067,\n 0.05653690919280052,\n -0.03626636788249016,\n -0.025503017008304596,\n 0.004164412617683411,\n 0.07503797113895416,\n -0.06349898129701614,\n -0.01805034838616848,\n 0.013742214068770409,\n -0.006971440743654966,\n 0.02082294225692749,\n 0.03086760640144348,\n -0.015435779467225075,\n -0.0033135332632809877,\n 0.015103663317859173,\n -0.07048537582159042,\n -0.0963493287563324,\n -0.03059055656194687,\n 0.014938324689865112,\n -0.04092196747660637,\n 0.06763949245214462,\n -0.016557829454541206,\n -0.04778377339243889,\n -0.06820424646139145,\n -0.07131887972354889,\n -0.07644245028495789,\n 0.1454104334115982,\n 0.0804949477314949,\n -0.05462305247783661,\n 0.02129771001636982,\n -0.03486702963709831,\n 0.08093930780887604,\n 0.056125037372112274,\n -0.05643646419048309,\n 0.005245193839073181,\n -0.003998133819550276,\n 0.006662845611572266,\n 0.02967076748609543,\n -0.030920393764972687,\n -0.030087850987911224,\n -0.021759726107120514,\n 0.052939578890800476,\n -0.050320662558078766,\n -0.004349427297711372,\n -0.029424311593174934,\n -0.01626507379114628,\n -0.07375097274780273,\n -6.080521330886768e-08,\n 0.1276664286851883,\n 0.009978201240301132,\n 0.0506042018532753,\n 0.003066715784370899,\n -0.009469757787883282,\n -0.06437257677316666,\n -0.10402929037809372,\n 0.003923607990145683,\n 0.0441700704395771,\n -0.020993538200855255,\n 0.12905944883823395,\n 0.11752553284168243,\n 0.005281973630189896,\n -0.04539047181606293,\n -0.08337521553039551,\n 0.02664974518120289,\n -0.0822247788310051,\n 0.06482452899217606,\n -0.048928212374448776,\n 0.01659555360674858,\n -0.10980392247438431,\n -0.010857857763767242,\n -0.069632887840271,\n 0.028934774920344353,\n 0.036398544907569885,\n 0.0466097854077816,\n -0.039983611553907394,\n -0.028764666989445686,\n 0.036639243364334106,\n 0.05581030249595642,\n -0.007922892458736897,\n 0.01758553646504879,\n -0.06657871603965759,\n 0.03261421620845795,\n -0.047046057879924774,\n -0.05124713480472565,\n 0.005222707986831665,\n 0.02902720496058464,\n 0.07274968922138214,\n -0.051994845271110535,\n 0.006716931238770485,\n 0.030828367918729782,\n 0.036771196871995926,\n -0.01791275106370449,\n -0.05579615384340286,\n -0.10364978015422821,\n 0.006575462874025106,\n -0.006393543444573879,\n 0.10172140598297119,\n -0.007007949519902468,\n -0.03192557394504547,\n -0.019806217402219772,\n -8.813531894702464e-05,\n -0.01612089015543461,\n 0.03141855075955391,\n -0.012249348685145378,\n 0.01098155789077282,\n -0.08065229654312134,\n -0.009171376004815102,\n 0.016607649624347687,\n -0.004011957906186581,\n -0.04005737975239754,\n 0.046970922499895096,\n 0.09202709048986435]"
     },
     "execution_count": 26,
     "metadata": {},
     "output_type": "execute_result"
    }
   ],
   "source": [
    "encoder.encode(df[0]['content']).tolist()"
   ],
   "metadata": {
    "collapsed": false,
    "ExecuteTime": {
     "start_time": "2023-06-10T18:14:53.690282Z",
     "end_time": "2023-06-10T18:14:53.712734Z"
    }
   }
  },
  {
   "cell_type": "code",
   "execution_count": 27,
   "outputs": [
    {
     "data": {
      "text/plain": "  0%|          | 0/142570 [00:00<?, ?it/s]",
      "application/vnd.jupyter.widget-view+json": {
       "version_major": 2,
       "version_minor": 0,
       "model_id": "e89ef1e16dd1478abbac57d6377027b3"
      }
     },
     "metadata": {},
     "output_type": "display_data"
    }
   ],
   "source": [
    "for _ in tqdm(df):\n",
    "    _['keyphrases'] = []\n",
    "    _['people'] = []\n",
    "    _['organizations'] = []\n",
    "    _['locations'] = []"
   ],
   "metadata": {
    "collapsed": false,
    "ExecuteTime": {
     "start_time": "2023-06-10T18:15:04.845374Z",
     "end_time": "2023-06-10T18:15:05.554363Z"
    }
   }
  },
  {
   "cell_type": "code",
   "execution_count": 31,
   "outputs": [
    {
     "data": {
      "text/plain": "  0%|          | 0/1114 [00:00<?, ?it/s]",
      "application/vnd.jupyter.widget-view+json": {
       "version_major": 2,
       "version_minor": 0,
       "model_id": "27bb1edcd12b49d38f4d9962dc4e6a9f"
      }
     },
     "metadata": {},
     "output_type": "display_data"
    }
   ],
   "source": [
    "vectors = list()\n",
    "batch_size=128\n",
    "for i in tqdm(range(0, len(df), batch_size)):\n",
    "    _content = [x['content'] for x in df[i:i+batch_size]]\n",
    "    _content = encoder.encode(_content).tolist()\n",
    "    vectors.extend(_content)"
   ],
   "metadata": {
    "collapsed": false,
    "ExecuteTime": {
     "start_time": "2023-06-10T18:17:49.380529Z",
     "end_time": "2023-06-10T18:32:27.939461Z"
    }
   }
  },
  {
   "cell_type": "code",
   "execution_count": 32,
   "outputs": [
    {
     "data": {
      "text/plain": "(142570, 142570)"
     },
     "execution_count": 32,
     "metadata": {},
     "output_type": "execute_result"
    }
   ],
   "source": [
    "len(df), len(vectors)"
   ],
   "metadata": {
    "collapsed": false,
    "ExecuteTime": {
     "start_time": "2023-06-10T18:33:28.889398Z",
     "end_time": "2023-06-10T18:33:28.931949Z"
    }
   }
  },
  {
   "cell_type": "code",
   "execution_count": 33,
   "outputs": [],
   "source": [
    "for record, vec in zip(df, vectors):\n",
    "    record['vec'] = vec"
   ],
   "metadata": {
    "collapsed": false,
    "ExecuteTime": {
     "start_time": "2023-06-10T18:33:58.828754Z",
     "end_time": "2023-06-10T18:33:58.852520Z"
    }
   }
  },
  {
   "cell_type": "code",
   "execution_count": 36,
   "outputs": [
    {
     "data": {
      "text/plain": "  0%|          | 0/142570 [00:00<?, ?it/s]",
      "application/vnd.jupyter.widget-view+json": {
       "version_major": 2,
       "version_minor": 0,
       "model_id": "dafa87561c8a4c72a15c4969b6ed5f3b"
      }
     },
     "metadata": {},
     "output_type": "display_data"
    }
   ],
   "source": [
    "for document in tqdm(df):\n",
    "    document['id'] = str(document['id'])\n",
    "    client.collections['news'].documents.create(document)"
   ],
   "metadata": {
    "collapsed": false,
    "ExecuteTime": {
     "start_time": "2023-06-10T18:35:01.148290Z",
     "end_time": "2023-06-10T19:09:48.737073Z"
    }
   }
  },
  {
   "cell_type": "code",
   "execution_count": null,
   "outputs": [],
   "source": [],
   "metadata": {
    "collapsed": false
   }
  },
  {
   "cell_type": "code",
   "execution_count": null,
   "outputs": [],
   "source": [],
   "metadata": {
    "collapsed": false
   }
  },
  {
   "cell_type": "code",
   "execution_count": 43,
   "outputs": [],
   "source": [
    "search_parameters = {\n",
    "    'q'         : 'abortion',\n",
    "    'query_by'  : 'content',\n",
    "    'exclude_fields': 'vec',\n",
    "    'include_fields': 'publication,title,content'\n",
    "}\n",
    "\n",
    "results = client.collections['news'].documents.search(search_parameters)"
   ],
   "metadata": {
    "collapsed": false,
    "ExecuteTime": {
     "start_time": "2023-06-10T19:11:25.511475Z",
     "end_time": "2023-06-10T19:11:25.528919Z"
    }
   }
  },
  {
   "cell_type": "code",
   "execution_count": 44,
   "outputs": [
    {
     "data": {
      "text/plain": "10"
     },
     "execution_count": 44,
     "metadata": {},
     "output_type": "execute_result"
    }
   ],
   "source": [
    "len(results['hits'])"
   ],
   "metadata": {
    "collapsed": false,
    "ExecuteTime": {
     "start_time": "2023-06-10T19:11:25.823691Z",
     "end_time": "2023-06-10T19:11:25.827890Z"
    }
   }
  },
  {
   "cell_type": "code",
   "execution_count": 46,
   "outputs": [
    {
     "data": {
      "text/plain": "{'content': '     We’re now a month away from the inauguration of Donald Trump, and only a couple of weeks away from the   of a new Congress, one that at long last knows that it no longer has to worry that its bills will be vetoed by a president from the other party. As you might expect, many Republicans are giddy with excitement over all the new laws they’ll be able to pass, as they remake America into a paradise of liberty, prosperity and strong   values. But there’s danger lurking there, too, because a whole bunch of promises they’ve made in recent years are now going to have to be kept, and they won’t have a Democratic president to use as an excuse for avoiding ideologically important but politically perilous actions. For now I want to focus on just one of those actions: defunding Planned Parenthood. This is going to be one of the first items on the Republican agenda, not because the leadership necessarily relishes having a fight over it, but because Republican activists are already demanding it, and they will not be denied. This is likely to be big trouble for Republicans  —   indeed, it could be their first major legislative defeat next year. Just to clarify, “defunding” Planned Parenthood has nothing to do with abortion, because federal funds can’t go to abortion services. The funds in question are mostly Medicaid reimbursements: a woman on Medicaid goes to a Planned Parenthood clinic for a gynecological exam, a cancer screening, or some other health service, and Medicaid pays the bill. What Republicans want to do is bar women on Medicaid from getting their health care from Planned Parenthood. They passed such a provision last year, and President Obama vetoed it.       After Donald Trump’s many shifting comments about women’s health and reproductive rights, some women are worried about what will happen under the new administration. (Jenny   Washington Post)   Courts have struck down state laws that tried to prevent Medicaid patients from using Planned Parenthood, and the Obama administration just instituted a federal rule barring states from denying Medicaid patients the ability to get care from the organization’s clinics. But that could be overridden by a new law Congress passed and President Trump signed. But is that the first fight this new Congress wants to have? Polls show that clear majorities, ranging from around 55 to 65 percent of the public, oppose the Republican effort to defund Planned Parenthood. And it’s a loser in two ways: Republicans want to do something unpopular in the service of a different but equally unpopular goal (making abortions illegal or impossible to obtain).  Yet they have almost no choice. After committing themselves so publicly to the defunding  —   and almost shutting down the government in order to do it  —   Republicans have to move on it early, or risk a revolt from antiabortion activists who are always suspicious that their priorities are going to be put on the back burner when the GOP takes power. Yet despite the party’s total control of government, there are multiple points at which this effort could fail. First, there’s the matter of the filibuster, which Senate Democrats would definitely use to stop any effort to defund Planned Parenthood. Republicans will have 52 seats in the new Senate, and it’s unlikely they could get even a single Democrat to join them on this, let alone the eight they’d need to overcome a filibuster.  But they could try to attach it to a bill passed through “reconciliation”  —   which requires only a   majority  —   most likely a partial repeal of the Affordable Care Act. There are two problems there, however. Reconciliation bills can deal directly with only questions that have budgetary impact, and a ban on Planned Parenthood funding doesn’t increase or decrease the deficit, it merely tells women that they can’t go to certain clinics. Furthermore, it’s not certain that Republicans could even get the 50 votes they’d need, if they could somehow get a ruling from the parliamentarian that a defunding measure qualified for reconciliation. Maine’s Susan Collins is already on record opposing it, as is Lisa Murkowski of Alaska. Democrats would need to find only one more Republican to stop it.      Republican presidential   Donald Trump has repeatedly stated that he supports Planned Parenthood’s women’s health programs  —   just not abortion. (Peter   Washington Post)   Finally, there’s no telling where Trump will fall down on this issue, since his ideas about Planned Parenthood are muddied, to say the least  —   during the campaign he praised the group yet said he also supported defunding it. But his vice president, Mike Pence, is one of the most virulently   politicians in America, so chances are that if a defunding measure made it to Trump’s desk, there would be enough people directly around him pressuring him that he’d sign it. But it probably won’t reach Trump’s desk, which would mean the worst of all possible worlds for Republicans: They wouldn’t get the policy victory they want, but they’d suffer the backlash from trying to do so. And if they do manage to pass it, the news will be filled with horror stories from women who used to rely on Planned Parenthood for their health care but now can’t find providers, all because a bunch of antiabortion zealots in Washington wanted to tell them which doctor they could go to. It’s another reminder that when you’re in the opposition, making promises is easy. You can hold symbolic votes, secure in the knowledge that you won’t be held accountable for your actions. But once you have power, you have to come through for those who stood by you  —   even if it means doing something that will make the broader public very unhappy. Planned Parenthood funding may be the first time Republicans find themselves in that position in 2017, but it won’t be the last.  ',\n 'publication': 'Washington Post',\n 'title': 'Defunding Planned Parenthood could be the GOP’s first big defeat of the new year'}"
     },
     "execution_count": 46,
     "metadata": {},
     "output_type": "execute_result"
    }
   ],
   "source": [
    "results['hits'][1]['document']"
   ],
   "metadata": {
    "collapsed": false,
    "ExecuteTime": {
     "start_time": "2023-06-10T19:11:41.951182Z",
     "end_time": "2023-06-10T19:11:41.956215Z"
    }
   }
  },
  {
   "cell_type": "code",
   "execution_count": null,
   "outputs": [],
   "source": [],
   "metadata": {
    "collapsed": false
   }
  },
  {
   "cell_type": "code",
   "execution_count": 48,
   "outputs": [],
   "source": [
    "search_requests = {\n",
    "    'searches': [\n",
    "        {\n",
    "            'collection': 'news',\n",
    "            'q' : '*',\n",
    "            'vector_query': f'vec:({encoder.encode(\"abortion\").tolist()}, k:10)',\n",
    "            'include_fields' : 'publication,title,content'\n",
    "        }\n",
    "    ]\n",
    "}"
   ],
   "metadata": {
    "collapsed": false,
    "ExecuteTime": {
     "start_time": "2023-06-10T19:13:16.708662Z",
     "end_time": "2023-06-10T19:13:16.739481Z"
    }
   }
  },
  {
   "cell_type": "code",
   "execution_count": 49,
   "outputs": [],
   "source": [
    "common_search_params =  {}\n",
    "vec_hits = client.multi_search.perform(search_requests, common_search_params)"
   ],
   "metadata": {
    "collapsed": false,
    "ExecuteTime": {
     "start_time": "2023-06-10T19:13:34.693324Z",
     "end_time": "2023-06-10T19:13:34.758404Z"
    }
   }
  },
  {
   "cell_type": "code",
   "execution_count": 56,
   "outputs": [
    {
     "data": {
      "text/plain": "{'content': ' Opponents of abortion often challenge   people with thought experiments about very late abortions. Rand Paul challenged Debbie Wasserman Schultz to affirm that she would be okay with ”killing a   baby that is not born yet.” Marco Rubio falsely claimed that Hillary Clinton even supports abortion ”on the due date.”    It’s easy for later abortions to be reduced to thought experiments  —   to be demonized and caricatured as something they’re not  —   because we rarely hear the stories of actual women who have had procedures like these. They’re incredibly rare, and doctors won’t perform them unless there’s a serious issue. So they are usually performed under deeply painful and difficult circumstances that aren’t easy to share. But Jezebel recently published a stunning interview with a woman who had an abortion at 32 weeks. It shows, in heartbreaking, human detail, exactly what might lead a woman to make a decision like this, and what the procedure is actually like. ”Elizabeth,” whose name was changed for privacy, told reporter Jia Tolentino about her experience.    Elizabeth had just had a miscarriage at 10 weeks when she and her husband discovered they were pregnant again. But from the beginning, the pregnancy was fraught with a series of ”random and rare” complications. First it was an abnormal umbilical cord and heavy bleeding. Then it was learning that their baby had a club foot. Later, there was an alarming blood test that suggested a condition like muscular dystrophy or spina bifida.    None of these setbacks were deal breakers, at least at first. But the news kept getting worse. The couple kept hoping, and kept telling themselves that this kid was ”coming from a long line of fighters.” They read about ”miracles” in other situations like theirs, and hoped for one themselves. But there was no miracle this time. Elizabeth and her husband finally learned that their unborn son’s anomalies were so bad that he was ”incompatible with life.” If he survived birth, it would be a brief and painful life. So they decided to terminate the pregnancy:     To be clear, if the doctors thought there was any way he might make it, I would have taken that chance. I truly would have put myself through anything. What I came to accept was the fact that I would never get to be this little guy’s mother  —   that if we came to term, he would likely live a very short time until he choked and died, if he even made it that far. This was a   for me. I couldn’t put him through that suffering when we had the option to minimize his pain as much as possible.  Elizabeth couldn’t get the procedure done in New York, which bans abortion after 24 weeks unless the mother’s life is in danger. Her case didn’t quite rise to that level  —   which is a common problem with the exceptions in many abortion bans. ”I thought, ‘We live in New York, this is crazy,’” she said. Elizabeth traveled to Colorado to see Dr. Warren Hern, one of the four remaining doctors in the country who will do this procedure. She described Hern as a ”zealot”  —   someone passionate enough about providing abortions to women in need that he was willing to put up with four layers of bulletproof glass, being shot at, and losing his colleague George Tiller, who was murdered in his church by an   extremist.    Elizabeth said she trusted Hern’s medical experience and his   manner. Her descriptions of the procedure itself were harrowing: the feeling of waiting for the baby’s heart to stop beating after being given a shot, and the excruciating pain of delivery  —   a delivery which she had to fly back to New York to complete after getting the shot in Colorado. Hern advised Elizabeth to deliver in a hospital rather than in his clinic because she’d had brain surgery two years before, and doctors told her that she could die if she pushed during natural labor. (While hers was a rare case that warranted a hospital, abortion is generally quite safe and can be performed in an outpatient setting.) Elizabeth was still recovering when she talked to Tolentino. She said she was upset the baby’s ailments had still not been diagnosed. It’s possible they never will be. She said she wants to try to get pregnant again, but acknowledges it will likely not be easy. She also expressed frustration with the ”political shit” that made her ordeal more complicated than it needed to be  —   and that makes her story a cautionary tale of the   consequences of abortion restrictions. Elizabeth had to fly to another state and pay $10, 000 cash for the shot, which she said made a legal procedure feel like something seedy and underhanded. And she was one of the ”lucky” ones with financial abilities to get the procedure done in the first place. Elizabeth’s story also shows the problem with laws restricting later abortion: They often take extremely individual, complicated medical decisions out of the hands of the doctors who are qualified to make them. Biology is fickle, bodies are unique, and anything can go wrong at any moment. Nothing is guaranteed in any pregnancy, and Elizabeth’s case was something of a Murphy’s law example.    But, Elizabeth said, it’s also not enough to advocate for abortion rights just by citing extreme cases like hers:  Another thing I want to say is that yes, I had this very particular, horrible situation —  but if I had had an abortion at 20 weeks just because I didn’t feel ready, that should be okay, too. Like it or not, all of our rights are intertwined. Maybe there’s some woman who has had four abortions and maybe that feels really wrong to you. But my rights are wrapped up with hers, so I have to fight like fuck for her to have as many as she wants —  not just for her sake, but for mine, too.   Americans don’t know much about abortion    ',\n 'publication': 'Vox',\n 'title': 'A woman had an abortion at 32 weeks. Our laws made her hellish experience even worse.'}"
     },
     "execution_count": 56,
     "metadata": {},
     "output_type": "execute_result"
    }
   ],
   "source": [
    "vec_hits['results'][0]['hits'][0]['document']"
   ],
   "metadata": {
    "collapsed": false,
    "ExecuteTime": {
     "start_time": "2023-06-10T19:14:22.059166Z",
     "end_time": "2023-06-10T19:14:22.066882Z"
    }
   }
  },
  {
   "cell_type": "code",
   "execution_count": null,
   "outputs": [],
   "source": [],
   "metadata": {
    "collapsed": false
   }
  },
  {
   "cell_type": "code",
   "execution_count": null,
   "outputs": [],
   "source": [],
   "metadata": {
    "collapsed": false
   }
  },
  {
   "cell_type": "code",
   "execution_count": 57,
   "outputs": [],
   "source": [
    "import gzip\n",
    "import json"
   ],
   "metadata": {
    "collapsed": false,
    "ExecuteTime": {
     "start_time": "2023-06-10T19:14:35.041678Z",
     "end_time": "2023-06-10T19:14:35.083739Z"
    }
   }
  },
  {
   "cell_type": "code",
   "execution_count": 59,
   "outputs": [],
   "source": [
    "with gzip.open('vectorized_small_news.json.gz', 'wt') as f:\n",
    "    json.dump(df, f)"
   ],
   "metadata": {
    "collapsed": false,
    "ExecuteTime": {
     "start_time": "2023-06-10T19:15:02.656280Z",
     "end_time": "2023-06-10T19:17:52.014434Z"
    }
   }
  },
  {
   "cell_type": "code",
   "execution_count": null,
   "outputs": [],
   "source": [],
   "metadata": {
    "collapsed": false
   }
  }
 ],
 "metadata": {
  "kernelspec": {
   "display_name": "Python 3",
   "language": "python",
   "name": "python3"
  },
  "language_info": {
   "codemirror_mode": {
    "name": "ipython",
    "version": 2
   },
   "file_extension": ".py",
   "mimetype": "text/x-python",
   "name": "python",
   "nbconvert_exporter": "python",
   "pygments_lexer": "ipython2",
   "version": "2.7.6"
  }
 },
 "nbformat": 4,
 "nbformat_minor": 0
}
