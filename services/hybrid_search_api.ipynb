{
 "cells": [
  {
   "cell_type": "markdown",
   "source": [
    "jupyter kernelgateway --KernelGatewayApp.api=kernel_gateway.notebook_http --KernelGatewayApp.seed_uri=./hybrid_search_api.ipynb --port=10100"
   ],
   "metadata": {
    "collapsed": false
   }
  },
  {
   "cell_type": "code",
   "execution_count": 57,
   "metadata": {
    "collapsed": true,
    "ExecuteTime": {
     "start_time": "2023-06-10T20:30:08.576555Z",
     "end_time": "2023-06-10T20:30:08.619513Z"
    }
   },
   "outputs": [],
   "source": [
    "import pandas as pd\n",
    "import numpy as np\n",
    "import json\n",
    "from sklearn.metrics.pairwise import cosine_similarity"
   ]
  },
  {
   "cell_type": "code",
   "execution_count": 3,
   "outputs": [
    {
     "name": "stderr",
     "output_type": "stream",
     "text": [
      "2023-06-10 20:17:24.749802: I tensorflow/core/platform/cpu_feature_guard.cc:193] This TensorFlow binary is optimized with oneAPI Deep Neural Network Library (oneDNN) to use the following CPU instructions in performance-critical operations:  AVX2 AVX512F AVX512_VNNI FMA\n",
      "To enable them in other operations, rebuild TensorFlow with the appropriate compiler flags.\n",
      "2023-06-10 20:17:24.898055: I tensorflow/core/util/port.cc:104] oneDNN custom operations are on. You may see slightly different numerical results due to floating-point round-off errors from different computation orders. To turn them off, set the environment variable `TF_ENABLE_ONEDNN_OPTS=0`.\n",
      "2023-06-10 20:17:25.406298: W tensorflow/compiler/xla/stream_executor/platform/default/dso_loader.cc:64] Could not load dynamic library 'libnvinfer.so.7'; dlerror: libnvinfer.so.7: cannot open shared object file: No such file or directory\n",
      "2023-06-10 20:17:25.406356: W tensorflow/compiler/xla/stream_executor/platform/default/dso_loader.cc:64] Could not load dynamic library 'libnvinfer_plugin.so.7'; dlerror: libnvinfer_plugin.so.7: cannot open shared object file: No such file or directory\n",
      "2023-06-10 20:17:25.406361: W tensorflow/compiler/tf2tensorrt/utils/py_utils.cc:38] TF-TRT Warning: Cannot dlopen some TensorRT libraries. If you would like to use Nvidia GPU with TensorRT, please make sure the missing libraries mentioned above are installed properly.\n"
     ]
    }
   ],
   "source": [
    "from sentence_transformers import SentenceTransformer"
   ],
   "metadata": {
    "collapsed": false,
    "ExecuteTime": {
     "start_time": "2023-06-10T20:17:23.342128Z",
     "end_time": "2023-06-10T20:17:25.840467Z"
    }
   }
  },
  {
   "cell_type": "code",
   "execution_count": 1,
   "outputs": [],
   "source": [
    "from typesense import Client"
   ],
   "metadata": {
    "collapsed": false,
    "ExecuteTime": {
     "start_time": "2023-06-19T18:31:54.556299Z",
     "end_time": "2023-06-19T18:31:54.647686Z"
    }
   }
  },
  {
   "cell_type": "code",
   "execution_count": 2,
   "outputs": [],
   "source": [
    "client = Client({\n",
    "    'nodes': [{\n",
    "        'host': 'localhost', # For Typesense Cloud use xxx.a1.typesense.net\n",
    "        'port': '8108',      # For Typesense Cloud use 443\n",
    "        'protocol': 'http'   # For Typesense Cloud use https\n",
    "    }],\n",
    "    'api_key': 'xyz',\n",
    "    'connection_timeout_seconds': 10\n",
    "})"
   ],
   "metadata": {
    "collapsed": false,
    "ExecuteTime": {
     "start_time": "2023-06-19T18:31:54.651377Z",
     "end_time": "2023-06-19T18:31:54.652280Z"
    }
   }
  },
  {
   "cell_type": "code",
   "execution_count": 6,
   "outputs": [
    {
     "data": {
      "text/plain": "True"
     },
     "execution_count": 6,
     "metadata": {},
     "output_type": "execute_result"
    }
   ],
   "source": [
    "client.operations.is_healthy()"
   ],
   "metadata": {
    "collapsed": false,
    "ExecuteTime": {
     "start_time": "2023-06-19T18:41:48.900593Z",
     "end_time": "2023-06-19T18:41:48.943967Z"
    }
   }
  },
  {
   "cell_type": "code",
   "execution_count": 6,
   "outputs": [],
   "source": [
    "encoder = SentenceTransformer('all-MiniLM-L6-v2')"
   ],
   "metadata": {
    "collapsed": false,
    "ExecuteTime": {
     "start_time": "2023-06-10T20:17:25.887192Z",
     "end_time": "2023-06-10T20:17:26.266098Z"
    }
   }
  },
  {
   "cell_type": "code",
   "execution_count": 26,
   "outputs": [],
   "source": [
    "def wrrf(subj, obj, alpha=0.5, C=1, k=1, s_e=1, o_e=1, c_e=1):\n",
    "    return alpha*(1/(k+subj))**s_e + (1-alpha)*(1/(k+obj))**o_e + C*( (1/(np.sqrt(k)+subj))*(1/(np.sqrt(k)+obj)) )**c_e"
   ],
   "metadata": {
    "collapsed": false,
    "ExecuteTime": {
     "start_time": "2023-06-10T20:21:05.203265Z",
     "end_time": "2023-06-10T20:21:05.210295Z"
    }
   }
  },
  {
   "cell_type": "code",
   "execution_count": 114,
   "outputs": [],
   "source": [
    "def dense_query(query, include_fields='publication,title,content,id', index='news', top_k=50):\n",
    "    search_requests = {\n",
    "        'searches': [\n",
    "            {\n",
    "                'collection': index,\n",
    "                'q' : '*',\n",
    "                'vector_query': f'vec:({encoder.encode(query).tolist()}, k:{top_k})',\n",
    "                'include_fields' : include_fields,\n",
    "                'per_page': top_k\n",
    "            }\n",
    "        ]\n",
    "    }\n",
    "\n",
    "    common_search_params =  {}\n",
    "    vec_hits = client.multi_search.perform(search_requests, common_search_params)\n",
    "\n",
    "    results = vec_hits['results'][0]['hits']\n",
    "    results_df = [x['document'] for x in results]\n",
    "    for record, result in zip(results_df, results):\n",
    "        record['dense_score'] = result['vector_distance']\n",
    "    return pd.DataFrame(results_df)\n",
    "\n",
    "def sparse_query(query, include_fields='publication,title,content', index='news', top_k=50):\n",
    "    search_parameters = {\n",
    "        'q'         : query,\n",
    "        'query_by'  : 'content,title',\n",
    "        'exclude_fields': 'vec',\n",
    "        'include_fields': include_fields,\n",
    "        'per_page' : top_k\n",
    "    }\n",
    "\n",
    "    results = client.collections[index].documents.search(search_parameters)['hits']\n",
    "    results_df = [x['document'] for x in results]\n",
    "    for record, result in zip(results_df, results):\n",
    "        record['sparse_score'] = result['text_match']\n",
    "\n",
    "    return pd.DataFrame(results_df)\n",
    "\n",
    "def hybrid_query(query, include_fields='publication,title,content,id', index='news', top_k=250):\n",
    "    sparse_results = sparse_query(query, include_fields=include_fields, index=index, top_k=top_k)\n",
    "    dense_results = dense_query(query, include_fields=include_fields, index=index, top_k=top_k)\n",
    "\n",
    "    hybrid_results = pd.merge(sparse_results, dense_results[['id','dense_score']],\n",
    "                              how='inner',\n",
    "                              left_on=['id'],\n",
    "                              right_on=['id'])\n",
    "\n",
    "    hybrid_results['sparse_rank'] = (-1*hybrid_results['sparse_score']).rank()\n",
    "    hybrid_results['dense_rank'] = (-1*hybrid_results['dense_score']).rank()\n",
    "    hybrid_results['wrrf_score'] = hybrid_results.apply(lambda x: wrrf(x['sparse_rank'], x['dense_rank']), axis=1)\n",
    "    hybrid_results['wrrf_rank'] = (-1*hybrid_results['wrrf_score']).rank()\n",
    "\n",
    "    return hybrid_results\n",
    "\n",
    "def densify_sparse(query, sparse_results):\n",
    "    query_vec = encoder.encode(query)\n",
    "    sparse_vecs = encoder.encode(sparse_results['content'].values)\n",
    "    similarity = cosine_similarity([query_vec], sparse_vecs)\n",
    "    sparse_results['dense_score'] = similarity[0]\n",
    "    sparse_results['sparse_rank'] = (-1*sparse_results['sparse_score']).rank()\n",
    "    sparse_results['dense_rank'] = (-1*sparse_results['dense_score']).rank()\n",
    "    sparse_results['wrrf_score'] = sparse_results.apply(lambda x: wrrf(x['sparse_rank'], x['dense_rank']), axis=1)\n",
    "    sparse_results['wrrf_rank'] = (-1*sparse_results['wrrf_score']).rank()\n",
    "    return sparse_results\n",
    "\n",
    "def hybrid_reranking(query, include_fields='publication,title,content,id', index='news', top_k=250):\n",
    "    sparse_results = sparse_query(query, include_fields=include_fields, index=index, top_k=top_k)\n",
    "    sparse_results = densify_sparse(query, sparse_results)\n",
    "    sparse_results = sparse_results.iloc[:50]\n",
    "    return sparse_results.sort_values(by=['wrrf_rank'])\n",
    "\n",
    "\n",
    "def id_query(id, include_fields='publication,title,content', index='news', top_k=50):\n",
    "    results = client.collections['news'].documents[str(id)].retrieve()\n",
    "    del results['vec']\n",
    "    results = pd.Series(results)\n",
    "    return results"
   ],
   "metadata": {
    "collapsed": false,
    "ExecuteTime": {
     "start_time": "2023-06-10T21:22:03.064947Z",
     "end_time": "2023-06-10T21:22:03.111512Z"
    }
   }
  },
  {
   "cell_type": "markdown",
   "source": [
    "_ = hybrid_query('trump inauguration')"
   ],
   "metadata": {
    "collapsed": false
   }
  },
  {
   "cell_type": "markdown",
   "source": [
    "_  =client.collections['news'].documents[str(204532)].retrieve()"
   ],
   "metadata": {
    "collapsed": false
   }
  },
  {
   "cell_type": "code",
   "execution_count": null,
   "outputs": [],
   "source": [
    "# GET /query/by_id\n",
    "\n",
    "req = json.loads(REQUEST)\n",
    "query = req['args']['query'][0]\n",
    "\n",
    "results = id_query(query)\n",
    "\n",
    "print(results.to_json())"
   ],
   "metadata": {
    "collapsed": false
   }
  },
  {
   "cell_type": "code",
   "execution_count": null,
   "outputs": [],
   "source": [
    "# ResponseInfo GET /query/by_id\n",
    "print(json.dumps({\n",
    "    \"status\" : 200,\n",
    "    \"headers\" : {\n",
    "        \"Content-Type\" : \"application/json\"\n",
    "    }\n",
    "}))"
   ],
   "metadata": {
    "collapsed": false
   }
  },
  {
   "cell_type": "code",
   "execution_count": null,
   "outputs": [],
   "source": [],
   "metadata": {
    "collapsed": false
   }
  },
  {
   "cell_type": "code",
   "execution_count": null,
   "outputs": [],
   "source": [
    "# GET /query/sparse\n",
    "\n",
    "req = json.loads(REQUEST)\n",
    "query = req['args']['query'][0]\n",
    "\n",
    "results = sparse_query(query)\n",
    "\n",
    "print(results.to_json(orient='records'))"
   ],
   "metadata": {
    "collapsed": false
   }
  },
  {
   "cell_type": "code",
   "execution_count": null,
   "outputs": [],
   "source": [
    "# ResponseInfo GET /query/sparse\n",
    "print(json.dumps({\n",
    "    \"status\" : 200,\n",
    "    \"headers\" : {\n",
    "        \"Content-Type\" : \"application/json\"\n",
    "    }\n",
    "}))"
   ],
   "metadata": {
    "collapsed": false
   }
  },
  {
   "cell_type": "code",
   "execution_count": null,
   "outputs": [],
   "source": [
    "# GET /query/dense\n",
    "\n",
    "req = json.loads(REQUEST)\n",
    "query = req['args']['query'][0]\n",
    "\n",
    "results = dense_query(query)\n",
    "\n",
    "print(results.to_json(orient='records'))"
   ],
   "metadata": {
    "collapsed": false
   }
  },
  {
   "cell_type": "code",
   "execution_count": null,
   "outputs": [],
   "source": [
    "# ResponseInfo GET /query/dense\n",
    "print(json.dumps({\n",
    "    \"status\" : 200,\n",
    "    \"headers\" : {\n",
    "        \"Content-Type\" : \"application/json\"\n",
    "    }\n",
    "}))"
   ],
   "metadata": {
    "collapsed": false
   }
  },
  {
   "cell_type": "code",
   "execution_count": null,
   "outputs": [],
   "source": [
    "# GET /query/hybrid\n",
    "\n",
    "req = json.loads(REQUEST)\n",
    "query = req['args']['query'][0]\n",
    "\n",
    "results = hybrid_query(query)\n",
    "print(results.to_json(orient='records'))"
   ],
   "metadata": {
    "collapsed": false
   }
  },
  {
   "cell_type": "code",
   "execution_count": null,
   "outputs": [],
   "source": [
    "# ResponseInfo GET /query/hybrid\n",
    "print(json.dumps({\n",
    "    \"status\" : 200,\n",
    "    \"headers\" : {\n",
    "        \"Content-Type\" : \"application/json\"\n",
    "    }\n",
    "}))"
   ],
   "metadata": {
    "collapsed": false
   }
  },
  {
   "cell_type": "code",
   "execution_count": null,
   "outputs": [],
   "source": [],
   "metadata": {
    "collapsed": false
   }
  },
  {
   "cell_type": "code",
   "execution_count": null,
   "outputs": [],
   "source": [
    "# POST /query/hybrid_rerank\n",
    "\n",
    "req = json.loads(REQUEST)\n",
    "query = req['args']['query'][0]\n",
    "\n",
    "results = hybrid_reranking(query)\n",
    "print(results.to_json(orient='records'))"
   ],
   "metadata": {
    "collapsed": false
   }
  },
  {
   "cell_type": "code",
   "execution_count": null,
   "outputs": [],
   "source": [
    "# ResponseInfo POST /query/hybrid_rerank\n",
    "print(json.dumps({\n",
    "    \"status\" : 200,\n",
    "    \"headers\" : {\n",
    "        \"Content-Type\" : \"application/json\"\n",
    "    }\n",
    "}))"
   ],
   "metadata": {
    "collapsed": false
   }
  },
  {
   "cell_type": "code",
   "execution_count": null,
   "outputs": [],
   "source": [],
   "metadata": {
    "collapsed": false
   }
  },
  {
   "cell_type": "code",
   "execution_count": null,
   "outputs": [],
   "source": [],
   "metadata": {
    "collapsed": false
   }
  }
 ],
 "metadata": {
  "kernelspec": {
   "display_name": "Python 3",
   "language": "python",
   "name": "python3"
  },
  "language_info": {
   "codemirror_mode": {
    "name": "ipython",
    "version": 2
   },
   "file_extension": ".py",
   "mimetype": "text/x-python",
   "name": "python",
   "nbconvert_exporter": "python",
   "pygments_lexer": "ipython2",
   "version": "2.7.6"
  }
 },
 "nbformat": 4,
 "nbformat_minor": 0
}
