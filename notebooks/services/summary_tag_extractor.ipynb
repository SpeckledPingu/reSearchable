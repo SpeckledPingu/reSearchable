{
 "cells": [
  {
   "cell_type": "code",
   "execution_count": 2,
   "id": "initial_id",
   "metadata": {
    "collapsed": true,
    "ExecuteTime": {
     "end_time": "2023-08-05T16:45:27.965888743Z",
     "start_time": "2023-08-05T16:45:23.264284313Z"
    }
   },
   "outputs": [
    {
     "name": "stderr",
     "output_type": "stream",
     "text": [
      "2023-08-05 12:45:25.416375: I tensorflow/core/platform/cpu_feature_guard.cc:193] This TensorFlow binary is optimized with oneAPI Deep Neural Network Library (oneDNN) to use the following CPU instructions in performance-critical operations:  AVX2 AVX512F AVX512_VNNI FMA\n",
      "To enable them in other operations, rebuild TensorFlow with the appropriate compiler flags.\n",
      "2023-08-05 12:45:25.656982: I tensorflow/core/util/port.cc:104] oneDNN custom operations are on. You may see slightly different numerical results due to floating-point round-off errors from different computation orders. To turn them off, set the environment variable `TF_ENABLE_ONEDNN_OPTS=0`.\n",
      "2023-08-05 12:45:26.347664: W tensorflow/compiler/xla/stream_executor/platform/default/dso_loader.cc:64] Could not load dynamic library 'libnvinfer.so.7'; dlerror: libnvinfer.so.7: cannot open shared object file: No such file or directory\n",
      "2023-08-05 12:45:26.347753: W tensorflow/compiler/xla/stream_executor/platform/default/dso_loader.cc:64] Could not load dynamic library 'libnvinfer_plugin.so.7'; dlerror: libnvinfer_plugin.so.7: cannot open shared object file: No such file or directory\n",
      "2023-08-05 12:45:26.347760: W tensorflow/compiler/tf2tensorrt/utils/py_utils.cc:38] TF-TRT Warning: Cannot dlopen some TensorRT libraries. If you would like to use Nvidia GPU with TensorRT, please make sure the missing libraries mentioned above are installed properly.\n",
      "2023-08-05 12:45:27.584794: I tensorflow/compiler/xla/stream_executor/cuda/cuda_gpu_executor.cc:981] successful NUMA node read from SysFS had negative value (-1), but there must be at least one NUMA node, so returning NUMA node zero\n",
      "2023-08-05 12:45:27.585225: W tensorflow/compiler/xla/stream_executor/platform/default/dso_loader.cc:64] Could not load dynamic library 'libcusolver.so.11'; dlerror: libcusolver.so.11: cannot open shared object file: No such file or directory\n",
      "2023-08-05 12:45:27.585296: W tensorflow/core/common_runtime/gpu/gpu_device.cc:1934] Cannot dlopen some GPU libraries. Please make sure the missing libraries mentioned above are installed properly if you would like to use GPU. Follow the guide at https://www.tensorflow.org/install/gpu for how to download and setup the required libraries for your platform.\n",
      "Skipping registering GPU devices...\n"
     ]
    }
   ],
   "source": [
    "from keybert import KeyBERT\n",
    "from keyphrase_vectorizers import KeyphraseCountVectorizer\n",
    "import json\n",
    "from unidecode import unidecode\n",
    "import re\n",
    "\n",
    "from txtai.pipeline import Summary"
   ]
  },
  {
   "cell_type": "code",
   "execution_count": 3,
   "outputs": [],
   "source": [
    "kw_vectorizer = KeyphraseCountVectorizer()\n",
    "kw_extractor = KeyBERT()"
   ],
   "metadata": {
    "collapsed": false,
    "ExecuteTime": {
     "end_time": "2023-08-05T16:45:27.983487865Z",
     "start_time": "2023-08-05T16:45:27.970556511Z"
    }
   },
   "id": "a02c631cbe7644e0"
  },
  {
   "cell_type": "code",
   "execution_count": 4,
   "outputs": [],
   "source": [
    "# kw_extractor.extract_keywords?"
   ],
   "metadata": {
    "collapsed": false,
    "ExecuteTime": {
     "end_time": "2023-08-05T16:45:28.075807781Z",
     "start_time": "2023-08-05T16:45:27.974556352Z"
    }
   },
   "id": "8238ee511165f753"
  },
  {
   "cell_type": "code",
   "execution_count": null,
   "outputs": [],
   "source": [
    "# POST /ask/tag\n",
    "\n",
    "req = json.loads(REQUEST)\n",
    "doc = req['args']['doc'][0]\n",
    "\n",
    "doc = unidecode(doc)\n",
    "doc = re.sub(r'(\\s+)',' ', doc)\n",
    "\n",
    "tags = kw_extractor.extract_keywords(docs=[doc], top_n=10, use_mmr=True, diversity=0.3, vectorizer=kw_vectorizer)\n",
    "tags = [x[0] for x in tags]\n",
    "\n",
    "print(json.dumps({'tags':tags}))"
   ],
   "metadata": {
    "collapsed": false
   },
   "id": "4c37411e8955bcb8"
  },
  {
   "cell_type": "code",
   "execution_count": null,
   "outputs": [],
   "source": [
    "# ResponseInfo POST /ask/tag\n",
    "\n",
    "print(json.dumps({\n",
    "    \"status\" : 200,\n",
    "    \"headers\" : {\n",
    "        \"Content-Type\" : \"application/json\"\n",
    "    }\n",
    "}))"
   ],
   "metadata": {
    "collapsed": false
   },
   "id": "e1d3532cca8f5a5b"
  },
  {
   "cell_type": "code",
   "execution_count": null,
   "outputs": [],
   "source": [],
   "metadata": {
    "collapsed": false
   },
   "id": "9a3a1737d987a2fb"
  },
  {
   "cell_type": "code",
   "execution_count": null,
   "outputs": [],
   "source": [
    "summarizer = Summary()"
   ],
   "metadata": {
    "collapsed": false
   },
   "id": "b0a930ae210231b8"
  },
  {
   "cell_type": "code",
   "execution_count": null,
   "outputs": [],
   "source": [
    "# POST /ask/summary\n",
    "\n",
    "req = json.loads(REQUEST)\n",
    "doc = req['args']['doc'][0]\n",
    "\n",
    "doc = unidecode(doc)\n",
    "doc = re.sub(r'(\\s+)',' ', doc)\n",
    "\n",
    "print(json.dumps({'summary':summarizer(doc)}))"
   ],
   "metadata": {
    "collapsed": false
   },
   "id": "2aab76b9ea954ab4"
  },
  {
   "cell_type": "code",
   "execution_count": null,
   "outputs": [],
   "source": [
    "# ResponseInfo POST /ask/summary\n",
    "\n",
    "print(json.dumps({\n",
    "    \"status\" : 200,\n",
    "    \"headers\" : {\n",
    "        \"Content-Type\" : \"application/json\"\n",
    "    }\n",
    "}))"
   ],
   "metadata": {
    "collapsed": false
   },
   "id": "9923f655741005a9"
  }
 ],
 "metadata": {
  "kernelspec": {
   "display_name": "Python 3",
   "language": "python",
   "name": "python3"
  },
  "language_info": {
   "codemirror_mode": {
    "name": "ipython",
    "version": 2
   },
   "file_extension": ".py",
   "mimetype": "text/x-python",
   "name": "python",
   "nbconvert_exporter": "python",
   "pygments_lexer": "ipython2",
   "version": "2.7.6"
  }
 },
 "nbformat": 4,
 "nbformat_minor": 5
}
