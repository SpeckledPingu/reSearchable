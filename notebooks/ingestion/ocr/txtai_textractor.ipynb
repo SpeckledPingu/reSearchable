{
 "cells": [
  {
   "cell_type": "code",
   "execution_count": 1,
   "id": "initial_id",
   "metadata": {
    "collapsed": true,
    "ExecuteTime": {
     "end_time": "2023-08-14T22:31:44.844733879Z",
     "start_time": "2023-08-14T22:31:39.315535945Z"
    }
   },
   "outputs": [
    {
     "name": "stderr",
     "output_type": "stream",
     "text": [
      "2023-08-14 18:31:41.879279: I tensorflow/core/platform/cpu_feature_guard.cc:193] This TensorFlow binary is optimized with oneAPI Deep Neural Network Library (oneDNN) to use the following CPU instructions in performance-critical operations:  AVX2 AVX512F AVX512_VNNI FMA\n",
      "To enable them in other operations, rebuild TensorFlow with the appropriate compiler flags.\n",
      "2023-08-14 18:31:42.075452: I tensorflow/core/util/port.cc:104] oneDNN custom operations are on. You may see slightly different numerical results due to floating-point round-off errors from different computation orders. To turn them off, set the environment variable `TF_ENABLE_ONEDNN_OPTS=0`.\n",
      "2023-08-14 18:31:42.782020: W tensorflow/compiler/xla/stream_executor/platform/default/dso_loader.cc:64] Could not load dynamic library 'libnvinfer.so.7'; dlerror: libnvinfer.so.7: cannot open shared object file: No such file or directory\n",
      "2023-08-14 18:31:42.782100: W tensorflow/compiler/xla/stream_executor/platform/default/dso_loader.cc:64] Could not load dynamic library 'libnvinfer_plugin.so.7'; dlerror: libnvinfer_plugin.so.7: cannot open shared object file: No such file or directory\n",
      "2023-08-14 18:31:42.782107: W tensorflow/compiler/tf2tensorrt/utils/py_utils.cc:38] TF-TRT Warning: Cannot dlopen some TensorRT libraries. If you would like to use Nvidia GPU with TensorRT, please make sure the missing libraries mentioned above are installed properly.\n",
      "/home/jameslittiebrant/anaconda3/envs/semanticsearch/lib/python3.9/site-packages/torch/cuda/__init__.py:107: UserWarning: CUDA initialization: Unexpected error from cudaGetDeviceCount(). Did you run some cuda functions before calling NumCudaDevices() that might have already set an error? Error 803: system has unsupported display driver / cuda driver combination (Triggered internally at ../c10/cuda/CUDAFunctions.cpp:109.)\n",
      "  return torch._C._cuda_getDeviceCount() > 0\n"
     ]
    }
   ],
   "source": [
    "import pandas as pd\n",
    "import numpy as np\n",
    "from txtai.pipeline import Textractor"
   ]
  },
  {
   "cell_type": "code",
   "execution_count": 8,
   "outputs": [],
   "source": [
    "textractor = Textractor()"
   ],
   "metadata": {
    "collapsed": false,
    "ExecuteTime": {
     "end_time": "2023-08-14T22:32:26.832405866Z",
     "start_time": "2023-08-14T22:32:26.797440994Z"
    }
   },
   "id": "eb7c3bcbb8c6b5e1"
  },
  {
   "cell_type": "code",
   "execution_count": 9,
   "outputs": [
    {
     "name": "stdout",
     "output_type": "stream",
     "text": [
      "CPU times: user 6.76 ms, sys: 3.81 ms, total: 10.6 ms\n",
      "Wall time: 237 ms\n"
     ]
    }
   ],
   "source": [
    "%%time\n",
    "pdf = textractor('txtai/trump-indictment.pdf')"
   ],
   "metadata": {
    "collapsed": false,
    "ExecuteTime": {
     "end_time": "2023-08-14T22:32:27.702010959Z",
     "start_time": "2023-08-14T22:32:27.460852901Z"
    }
   },
   "id": "36939817aa4d9be8"
  },
  {
   "cell_type": "code",
   "execution_count": 11,
   "outputs": [
    {
     "data": {
      "text/plain": "'Case 9:23-cr-80101-AMC Document 3 Entered on FLSD Docket 06/08/2023 Page 1 of 49 Case 9:23-cr-80101-AMC Document 3 Entered on FLSD Docket 06/08/2023 Page 2 of 49 Case 9:23-cr-80101-AMC Document 3 Entered on FLSD Docket 06/08/2023 Page 3 of 49 Case 9:23-cr-80101-AMC Document 3 Entered on FLSD Docket 06/08/2023 Page 4 of 49 Case 9:23-cr-80101-AMC Document 3 Entered on FLSD Docket 06/08/2023 Page 5 of 49 Case 9:23-cr-80101-AMC Document 3 Entered on FLSD Docket 06/08/2023 Page 6 of 49 Case 9:23-cr-80101-AMC Document 3 Entered on FLSD Docket 06/08/2023 Page 7 of 49 Case 9:23-cr-80101-AMC Document 3 Entered on FLSD Docket 06/08/2023 Page 8 of 49 Case 9:23-cr-80101-AMC Document 3 Entered on FLSD Docket 06/08/2023 Page 9 of 49 Case 9:23-cr-80101-AMC Document 3 Entered on FLSD Docket 06/08/2023 Page 10 of 49 Case 9:23-cr-80101-AMC Document 3 Entered on FLSD Docket 06/08/2023 Page 11 of 49 Case 9:23-cr-80101-AMC Document 3 Entered on FLSD Docket 06/08/2023 Page 12 of 49 Case 9:23-cr-80101-AMC Document 3 Entered on FLSD Docket 06/08/2023 Page 13 of 49 Case 9:23-cr-80101-AMC Document 3 Entered on FLSD Docket 06/08/2023 Page 14 of 49 Case 9:23-cr-80101-AMC Document 3 Entered on FLSD Docket 06/08/2023 Page 15 of 49 Case 9:23-cr-80101-AMC Document 3 Entered on FLSD Docket 06/08/2023 Page 16 of 49 Case 9:23-cr-80101-AMC Document 3 Entered on FLSD Docket 06/08/2023 Page 17 of 49 Case 9:23-cr-80101-AMC Document 3 Entered on FLSD Docket 06/08/2023 Page 18 of 49 Case 9:23-cr-80101-AMC Document 3 Entered on FLSD Docket 06/08/2023 Page 19 of 49 Case 9:23-cr-80101-AMC Document 3 Entered on FLSD Docket 06/08/2023 Page 20 of 49 Case 9:23-cr-80101-AMC Document 3 Entered on FLSD Docket 06/08/2023 Page 21 of 49 Case 9:23-cr-80101-AMC Document 3 Entered on FLSD Docket 06/08/2023 Page 22 of 49 Case 9:23-cr-80101-AMC Document 3 Entered on FLSD Docket 06/08/2023 Page 23 of 49 Case 9:23-cr-80101-AMC Document 3 Entered on FLSD Docket 06/08/2023 Page 24 of 49 Case 9:23-cr-80101-AMC Document 3 Entered on FLSD Docket 06/08/2023 Page 25 of 49 Case 9:23-cr-80101-AMC Document 3 Entered on FLSD Docket 06/08/2023 Page 26 of 49 Case 9:23-cr-80101-AMC Document 3 Entered on FLSD Docket 06/08/2023 Page 27 of 49 Case 9:23-cr-80101-AMC Document 3 Entered on FLSD Docket 06/08/2023 Page 28 of 49 Case 9:23-cr-80101-AMC Document 3 Entered on FLSD Docket 06/08/2023 Page 29 of 49 Case 9:23-cr-80101-AMC Document 3 Entered on FLSD Docket 06/08/2023 Page 30 of 49 Case 9:23-cr-80101-AMC Document 3 Entered on FLSD Docket 06/08/2023 Page 31 of 49 Case 9:23-cr-80101-AMC Document 3 Entered on FLSD Docket 06/08/2023 Page 32 of 49 Case 9:23-cr-80101-AMC Document 3 Entered on FLSD Docket 06/08/2023 Page 33 of 49 Case 9:23-cr-80101-AMC Document 3 Entered on FLSD Docket 06/08/2023 Page 34 of 49 Case 9:23-cr-80101-AMC Document 3 Entered on FLSD Docket 06/08/2023 Page 35 of 49 Case 9:23-cr-80101-AMC Document 3 Entered on FLSD Docket 06/08/2023 Page 36 of 49 Case 9:23-cr-80101-AMC Document 3 Entered on FLSD Docket 06/08/2023 Page 37 of 49 Case 9:23-cr-80101-AMC Document 3 Entered on FLSD Docket 06/08/2023 Page 38 of 49 Case 9:23-cr-80101-AMC Document 3 Entered on FLSD Docket 06/08/2023 Page 39 of 49 Case 9:23-cr-80101-AMC Document 3 Entered on FLSD Docket 06/08/2023 Page 40 of 49 Case 9:23-cr-80101-AMC Document 3 Entered on FLSD Docket 06/08/2023 Page 41 of 49 Case 9:23-cr-80101-AMC Document 3 Entered on FLSD Docket 06/08/2023 Page 42 of 49 Case 9:23-cr-80101-AMC Document 3 Entered on FLSD Docket 06/08/2023 Page 43 of 49 Case 9:23-cr-80101-AMC Document 3 Entered on FLSD Docket 06/08/2023 Page 44 of 49 Case 9:23-cr-80101-AMC Document 3 Entered on FLSD Docket 06/08/2023 Page 45 of 49 Case 9:23-cr-80101-AMC Document 3 Entered on FLSD Docket 06/08/2023 Page 46 of 49 Case 9:23-cr-80101-AMC Document 3 Entered on FLSD Docket 06/08/2023 Page 47 of 49 Case 9:23-cr-80101-AMC Document 3 Entered on FLSD Docket 06/08/2023 Page 48 of 49 Case 9:23-cr-80101-AMC Document 3 Entered on FLSD Docket 06/08/2023 Page 49 of 49'"
     },
     "execution_count": 11,
     "metadata": {},
     "output_type": "execute_result"
    }
   ],
   "source": [
    "pdf"
   ],
   "metadata": {
    "collapsed": false,
    "ExecuteTime": {
     "end_time": "2023-08-14T22:32:31.822495143Z",
     "start_time": "2023-08-14T22:32:31.818576214Z"
    }
   },
   "id": "fe0c0fb3b3528733"
  },
  {
   "cell_type": "code",
   "execution_count": null,
   "outputs": [],
   "source": [],
   "metadata": {
    "collapsed": false
   },
   "id": "360fb98df66c4007"
  }
 ],
 "metadata": {
  "kernelspec": {
   "display_name": "Python 3",
   "language": "python",
   "name": "python3"
  },
  "language_info": {
   "codemirror_mode": {
    "name": "ipython",
    "version": 2
   },
   "file_extension": ".py",
   "mimetype": "text/x-python",
   "name": "python",
   "nbconvert_exporter": "python",
   "pygments_lexer": "ipython2",
   "version": "2.7.6"
  }
 },
 "nbformat": 4,
 "nbformat_minor": 5
}
