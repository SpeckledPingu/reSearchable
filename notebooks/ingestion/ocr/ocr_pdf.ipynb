{
 "cells": [
  {
   "cell_type": "code",
   "execution_count": 1,
   "metadata": {
    "collapsed": true,
    "ExecuteTime": {
     "end_time": "2023-08-14T23:04:24.812609836Z",
     "start_time": "2023-08-14T23:04:22.679657542Z"
    }
   },
   "outputs": [],
   "source": [
    "from doctr.io import DocumentFile\n",
    "from doctr.models import ocr_predictor\n",
    "from pathlib import Path"
   ]
  },
  {
   "cell_type": "code",
   "execution_count": 2,
   "outputs": [],
   "source": [
    "source_folder = Path('../../../../data/pdfs/')\n",
    "files = list(source_folder.glob('*.pdf'))"
   ],
   "metadata": {
    "collapsed": false,
    "ExecuteTime": {
     "end_time": "2023-08-14T23:04:24.834266029Z",
     "start_time": "2023-08-14T23:04:24.813449968Z"
    }
   }
  },
  {
   "cell_type": "code",
   "execution_count": 3,
   "outputs": [
    {
     "data": {
      "text/plain": "[PosixPath('../../../../data/pdfs/trump-indictment.pdf')]"
     },
     "execution_count": 3,
     "metadata": {},
     "output_type": "execute_result"
    }
   ],
   "source": [
    "files"
   ],
   "metadata": {
    "collapsed": false,
    "ExecuteTime": {
     "end_time": "2023-08-14T23:04:24.834979822Z",
     "start_time": "2023-08-14T23:04:24.819657724Z"
    }
   }
  },
  {
   "cell_type": "code",
   "execution_count": 4,
   "outputs": [
    {
     "name": "stderr",
     "output_type": "stream",
     "text": [
      "/home/jameslittiebrant/anaconda3/envs/extract/lib/python3.9/site-packages/torchvision/models/_utils.py:135: UserWarning: Using 'weights' as positional parameter(s) is deprecated since 0.13 and may be removed in the future. Please use keyword parameter(s) instead.\n",
      "  warnings.warn(\n",
      "/home/jameslittiebrant/anaconda3/envs/extract/lib/python3.9/site-packages/torchvision/models/_utils.py:223: UserWarning: Arguments other than a weight enum or `None` for 'weights' are deprecated since 0.13 and may be removed in the future. The current behavior is equivalent to passing `weights=None`.\n",
      "  warnings.warn(msg)\n"
     ]
    },
    {
     "name": "stdout",
     "output_type": "stream",
     "text": [
      "Downloading https://doctr-static.mindee.com/models?id=v0.3.1/db_resnet50-ac60cadc.pt&src=0 to /home/jameslittiebrant/.cache/doctr/models/db_resnet50-ac60cadc.pt\n"
     ]
    },
    {
     "data": {
      "text/plain": "  0%|          | 0/101971449 [00:00<?, ?it/s]",
      "application/vnd.jupyter.widget-view+json": {
       "version_major": 2,
       "version_minor": 0,
       "model_id": "4419c46f9e5340bbadeaf659515a39c6"
      }
     },
     "metadata": {},
     "output_type": "display_data"
    },
    {
     "name": "stdout",
     "output_type": "stream",
     "text": [
      "Downloading https://doctr-static.mindee.com/models?id=v0.3.1/crnn_vgg16_bn-9762b0b0.pt&src=0 to /home/jameslittiebrant/.cache/doctr/models/crnn_vgg16_bn-9762b0b0.pt\n"
     ]
    },
    {
     "data": {
      "text/plain": "  0%|          | 0/63286381 [00:00<?, ?it/s]",
      "application/vnd.jupyter.widget-view+json": {
       "version_major": 2,
       "version_minor": 0,
       "model_id": "97181473b79c4d218955843fec1a0d05"
      }
     },
     "metadata": {},
     "output_type": "display_data"
    }
   ],
   "source": [
    "model = ocr_predictor(pretrained=True)\n",
    "doc = DocumentFile.from_pdf(files[0])"
   ],
   "metadata": {
    "collapsed": false,
    "ExecuteTime": {
     "end_time": "2023-08-14T23:04:39.002149163Z",
     "start_time": "2023-08-14T23:04:31.609164209Z"
    }
   }
  },
  {
   "cell_type": "code",
   "execution_count": 6,
   "outputs": [
    {
     "name": "stderr",
     "output_type": "stream",
     "text": [
      "/home/jameslittiebrant/anaconda3/envs/extract/lib/python3.9/site-packages/torchvision/transforms/functional.py:1603: UserWarning: The default value of the antialias parameter of all the resizing transforms (Resize(), RandomResizedCrop(), etc.) will change from None to True in v0.17, in order to be consistent across the PIL and Tensor backends. To suppress this warning, directly pass antialias=True (recommended, future default), antialias=None (current default, which means False for Tensors and True for PIL), or antialias=False (only works on Tensors - PIL will still use antialiasing). This also applies if you are using the inference transforms from the models weights: update the call to weights.transforms(antialias=True).\n",
      "  warnings.warn(\n"
     ]
    }
   ],
   "source": [
    "result = model(doc)"
   ],
   "metadata": {
    "collapsed": false,
    "ExecuteTime": {
     "end_time": "2023-08-14T23:08:18.391629416Z",
     "start_time": "2023-08-14T23:04:43.161102729Z"
    }
   }
  },
  {
   "cell_type": "code",
   "execution_count": 22,
   "outputs": [],
   "source": [
    "pages = result.export()['pages']"
   ],
   "metadata": {
    "collapsed": false,
    "ExecuteTime": {
     "end_time": "2023-08-14T23:16:51.772399844Z",
     "start_time": "2023-08-14T23:16:51.742165354Z"
    }
   }
  },
  {
   "cell_type": "code",
   "execution_count": 26,
   "outputs": [
    {
     "ename": "AttributeError",
     "evalue": "'list' object has no attribute 'keys'",
     "output_type": "error",
     "traceback": [
      "\u001B[0;31m---------------------------------------------------------------------------\u001B[0m",
      "\u001B[0;31mAttributeError\u001B[0m                            Traceback (most recent call last)",
      "Cell \u001B[0;32mIn[26], line 1\u001B[0m\n\u001B[0;32m----> 1\u001B[0m \u001B[43mpages\u001B[49m\u001B[43m[\u001B[49m\u001B[38;5;241;43m0\u001B[39;49m\u001B[43m]\u001B[49m\u001B[43m[\u001B[49m\u001B[38;5;124;43m'\u001B[39;49m\u001B[38;5;124;43mblocks\u001B[39;49m\u001B[38;5;124;43m'\u001B[39;49m\u001B[43m]\u001B[49m\u001B[38;5;241;43m.\u001B[39;49m\u001B[43mkeys\u001B[49m()\n",
      "\u001B[0;31mAttributeError\u001B[0m: 'list' object has no attribute 'keys'"
     ]
    }
   ],
   "source": [
    "pages[0]['blocks'].keys()"
   ],
   "metadata": {
    "collapsed": false,
    "ExecuteTime": {
     "end_time": "2023-08-14T23:17:22.007349608Z",
     "start_time": "2023-08-14T23:17:21.988440824Z"
    }
   }
  },
  {
   "cell_type": "code",
   "execution_count": 27,
   "outputs": [
    {
     "data": {
      "text/plain": "20"
     },
     "execution_count": 27,
     "metadata": {},
     "output_type": "execute_result"
    }
   ],
   "source": [
    "len(pages[0]['blocks'])"
   ],
   "metadata": {
    "collapsed": false,
    "ExecuteTime": {
     "end_time": "2023-08-14T23:17:32.340356214Z",
     "start_time": "2023-08-14T23:17:32.293684867Z"
    }
   }
  },
  {
   "cell_type": "code",
   "execution_count": 39,
   "outputs": [
    {
     "data": {
      "text/plain": "dict_keys(['page_idx', 'dimensions', 'orientation', 'language', 'blocks'])"
     },
     "execution_count": 39,
     "metadata": {},
     "output_type": "execute_result"
    }
   ],
   "source": [
    "pages[1].keys()"
   ],
   "metadata": {
    "collapsed": false,
    "ExecuteTime": {
     "end_time": "2023-08-14T23:21:27.795778574Z",
     "start_time": "2023-08-14T23:21:27.751182370Z"
    }
   }
  },
  {
   "cell_type": "code",
   "execution_count": 38,
   "outputs": [
    {
     "name": "stdout",
     "output_type": "stream",
     "text": [
      "1\n",
      "Case 9:23-Cr-80101-AMC Document 3 Entered on FLSD Docket 06/08/2023 Page 2 of49\n",
      "1\n",
      "2.\n",
      "1\n",
      "Over the course of his presidency, TRUMP gathered newspapers, press clippings,\n",
      "2\n",
      "letters, notes, cards, photographs, official documents, and other materials in cardboard boxes that\n",
      "2\n",
      "classified documents.\n",
      "1\n",
      "The classified documents TRUMP stored in his boxes included information\n",
      "5\n",
      "regarding defense and weapons capabilities ofboth the United States and foreign countries; United\n",
      "1\n",
      "viability of sensitive intelligence collection methods.\n",
      "1\n",
      "4.\n",
      "1\n",
      "At 12:00 p.m. on January 20, 2021, TRUMP ceased to be president. As he departed\n",
      "3\n",
      "the White House, TRUMP caused scores ofboxes, many of which contained classified documents,\n",
      "1\n",
      "5.\n",
      "1\n",
      "The Mar-a-Lago Club was an active social club, which, between January 2021 and\n",
      "5\n",
      "August 2022, hosted events for tens of thousands of members and guests. After TRUMP's\n",
      "2\n",
      "6.\n",
      "1\n",
      "On two occasions in 2021, TRUMP showed classified documents to others, as\n",
      "1\n",
      "2\n"
     ]
    }
   ],
   "source": [
    "for block in pages[1]['blocks']:\n",
    "    print(len(block['lines']))\n",
    "    print(' '.join([x['value'] for x in block['lines'][0]['words']]))"
   ],
   "metadata": {
    "collapsed": false,
    "ExecuteTime": {
     "end_time": "2023-08-14T23:19:29.541062151Z",
     "start_time": "2023-08-14T23:19:29.497700578Z"
    }
   }
  },
  {
   "cell_type": "code",
   "execution_count": 36,
   "outputs": [
    {
     "data": {
      "text/plain": "{'geometry': ((0.0947265625, 0.0126953125), (0.97265625, 0.0419921875)),\n 'words': [{'value': 'Case',\n   'confidence': 0.9975444674491882,\n   'geometry': ((0.0947265625, 0.0166015625), (0.142578125, 0.0322265625))},\n  {'value': '9:23-cr-80101-AMC',\n   'confidence': 0.7649415731430054,\n   'geometry': ((0.1455078125, 0.0166015625), (0.3193359375, 0.0302734375))},\n  {'value': 'Document',\n   'confidence': 0.9964534044265747,\n   'geometry': ((0.333984375, 0.0166015625), (0.4267578125, 0.03125))},\n  {'value': '3',\n   'confidence': 0.9999682903289795,\n   'geometry': ((0.427734375, 0.015625), (0.443359375, 0.03125))},\n  {'value': 'Entered',\n   'confidence': 0.9670526385307312,\n   'geometry': ((0.4560546875, 0.0166015625), (0.52734375, 0.03125))},\n  {'value': 'on',\n   'confidence': 0.9968570470809937,\n   'geometry': ((0.5283203125, 0.0166015625), (0.5556640625, 0.0322265625))},\n  {'value': 'FLSD',\n   'confidence': 0.9996470212936401,\n   'geometry': ((0.556640625, 0.0166015625), (0.609375, 0.03125))},\n  {'value': 'Docket',\n   'confidence': 0.999976634979248,\n   'geometry': ((0.6123046875, 0.0166015625), (0.6767578125, 0.03125))},\n  {'value': '06/08/2023',\n   'confidence': 0.9648451805114746,\n   'geometry': ((0.6796875, 0.0166015625), (0.779296875, 0.03125))},\n  {'value': 'PAge',\n   'confidence': 0.35269224643707275,\n   'geometry': ((0.787109375, 0.013671875), (0.845703125, 0.0400390625))},\n  {'value': 'bof',\n   'confidence': 0.5959686636924744,\n   'geometry': ((0.8408203125, 0.0126953125), (0.8837890625, 0.0419921875))},\n  {'value': 'Mc',\n   'confidence': 0.983982264995575,\n   'geometry': ((0.880859375, 0.015625), (0.9228515625, 0.0390625))},\n  {'value': 'D.C.',\n   'confidence': 0.9099665880203247,\n   'geometry': ((0.939453125, 0.0234375), (0.97265625, 0.0380859375))}]}"
     },
     "execution_count": 36,
     "metadata": {},
     "output_type": "execute_result"
    }
   ],
   "source": [
    "block['lines'][0]"
   ],
   "metadata": {
    "collapsed": false,
    "ExecuteTime": {
     "end_time": "2023-08-14T23:19:04.642495489Z",
     "start_time": "2023-08-14T23:19:04.631510603Z"
    }
   }
  },
  {
   "cell_type": "code",
   "execution_count": null,
   "outputs": [],
   "source": [],
   "metadata": {
    "collapsed": false
   }
  }
 ],
 "metadata": {
  "kernelspec": {
   "display_name": "Python 3",
   "language": "python",
   "name": "python3"
  },
  "language_info": {
   "codemirror_mode": {
    "name": "ipython",
    "version": 2
   },
   "file_extension": ".py",
   "mimetype": "text/x-python",
   "name": "python",
   "nbconvert_exporter": "python",
   "pygments_lexer": "ipython2",
   "version": "2.7.6"
  }
 },
 "nbformat": 4,
 "nbformat_minor": 0
}
