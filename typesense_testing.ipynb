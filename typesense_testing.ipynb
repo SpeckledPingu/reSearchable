{
 "cells": [
  {
   "cell_type": "code",
   "execution_count": 5,
   "id": "initial_id",
   "metadata": {
    "collapsed": true,
    "ExecuteTime": {
     "end_time": "2023-08-20T14:10:02.366343902Z",
     "start_time": "2023-08-20T14:10:01.967154480Z"
    }
   },
   "outputs": [],
   "source": [
    "from typesense import Client\n",
    "import pandas as pd\n",
    "import numpy as np\n",
    "import json"
   ]
  },
  {
   "cell_type": "code",
   "execution_count": 2,
   "outputs": [],
   "source": [
    "client = Client({\n",
    "    'nodes': [{\n",
    "        'host': 'localhost', # For Typesense Cloud use xxx.a1.typesense.net\n",
    "        'port': '8108',      # For Typesense Cloud use 443\n",
    "        'protocol': 'http'   # For Typesense Cloud use https\n",
    "    }],\n",
    "    'api_key': 'xyz',\n",
    "    'connection_timeout_seconds': 5\n",
    "})"
   ],
   "metadata": {
    "collapsed": false,
    "ExecuteTime": {
     "end_time": "2023-08-20T14:06:34.567392042Z",
     "start_time": "2023-08-20T14:06:34.516823145Z"
    }
   },
   "id": "9ea708a1e72f4f1a"
  },
  {
   "cell_type": "code",
   "execution_count": 11,
   "outputs": [],
   "source": [
    "with open('News_Category_Dataset_v3.json', 'r') as f:\n",
    "    df = f.readlines()\n",
    "    df = [x.strip('\\n') for x in df]\n",
    "    df = [json.loads(x) for x in df]\n",
    "    df = pd.DataFrame.from_dict(df)"
   ],
   "metadata": {
    "collapsed": false,
    "ExecuteTime": {
     "end_time": "2023-08-20T14:12:14.212022061Z",
     "start_time": "2023-08-20T14:12:12.851674831Z"
    }
   },
   "id": "810c8d15029543fa"
  },
  {
   "cell_type": "code",
   "execution_count": 13,
   "outputs": [
    {
     "data": {
      "text/plain": "Index(['link', 'headline', 'category', 'short_description', 'authors', 'date'], dtype='object')"
     },
     "execution_count": 13,
     "metadata": {},
     "output_type": "execute_result"
    }
   ],
   "source": [
    "df.columns"
   ],
   "metadata": {
    "collapsed": false,
    "ExecuteTime": {
     "end_time": "2023-08-20T14:12:26.301999991Z",
     "start_time": "2023-08-20T14:12:26.290659723Z"
    }
   },
   "id": "8fe46b311c71520d"
  },
  {
   "cell_type": "code",
   "execution_count": 14,
   "outputs": [],
   "source": [
    "schema = {'name':'news',\n",
    "          'fields' : []}\n",
    "for col in df.columns:\n",
    "    schema['fields'].append({'name':col, 'type':'string'})"
   ],
   "metadata": {
    "collapsed": false,
    "ExecuteTime": {
     "end_time": "2023-08-20T14:14:14.829763753Z",
     "start_time": "2023-08-20T14:14:14.779910639Z"
    }
   },
   "id": "68ea3d802f408b55"
  },
  {
   "cell_type": "code",
   "execution_count": 15,
   "outputs": [
    {
     "data": {
      "text/plain": "{'name': 'news',\n 'fields': [{'name': 'link', 'type': 'string'},\n  {'name': 'headline', 'type': 'string'},\n  {'name': 'category', 'type': 'string'},\n  {'name': 'short_description', 'type': 'string'},\n  {'name': 'authors', 'type': 'string'},\n  {'name': 'date', 'type': 'string'}]}"
     },
     "execution_count": 15,
     "metadata": {},
     "output_type": "execute_result"
    }
   ],
   "source": [
    "schema"
   ],
   "metadata": {
    "collapsed": false,
    "ExecuteTime": {
     "end_time": "2023-08-20T14:14:22.350643092Z",
     "start_time": "2023-08-20T14:14:22.337988402Z"
    }
   },
   "id": "5bd347da04e72d46"
  },
  {
   "cell_type": "code",
   "execution_count": 16,
   "outputs": [
    {
     "data": {
      "text/plain": "{'created_at': 1692540874,\n 'default_sorting_field': '',\n 'enable_nested_fields': False,\n 'fields': [{'facet': False,\n   'index': True,\n   'infix': False,\n   'locale': '',\n   'name': 'link',\n   'optional': False,\n   'sort': False,\n   'type': 'string'},\n  {'facet': False,\n   'index': True,\n   'infix': False,\n   'locale': '',\n   'name': 'headline',\n   'optional': False,\n   'sort': False,\n   'type': 'string'},\n  {'facet': False,\n   'index': True,\n   'infix': False,\n   'locale': '',\n   'name': 'category',\n   'optional': False,\n   'sort': False,\n   'type': 'string'},\n  {'facet': False,\n   'index': True,\n   'infix': False,\n   'locale': '',\n   'name': 'short_description',\n   'optional': False,\n   'sort': False,\n   'type': 'string'},\n  {'facet': False,\n   'index': True,\n   'infix': False,\n   'locale': '',\n   'name': 'authors',\n   'optional': False,\n   'sort': False,\n   'type': 'string'},\n  {'facet': False,\n   'index': True,\n   'infix': False,\n   'locale': '',\n   'name': 'date',\n   'optional': False,\n   'sort': False,\n   'type': 'string'}],\n 'name': 'news',\n 'num_documents': 0,\n 'symbols_to_index': [],\n 'token_separators': []}"
     },
     "execution_count": 16,
     "metadata": {},
     "output_type": "execute_result"
    }
   ],
   "source": [
    "client.collections.create(schema)"
   ],
   "metadata": {
    "collapsed": false,
    "ExecuteTime": {
     "end_time": "2023-08-20T14:14:34.731019838Z",
     "start_time": "2023-08-20T14:14:34.686066418Z"
    }
   },
   "id": "e6bd71957c9b4df1"
  },
  {
   "cell_type": "code",
   "execution_count": 20,
   "outputs": [],
   "source": [
    "for index, row in df.iterrows():\n",
    "    client.collections['news'].documents.create(row.to_dict())"
   ],
   "metadata": {
    "collapsed": false,
    "ExecuteTime": {
     "end_time": "2023-08-20T14:40:14.345736557Z",
     "start_time": "2023-08-20T14:17:11.997100275Z"
    }
   },
   "id": "94895e0772c075c9"
  },
  {
   "cell_type": "code",
   "execution_count": null,
   "outputs": [],
   "source": [],
   "metadata": {
    "collapsed": false
   },
   "id": "d32fd2eb0c561781"
  },
  {
   "cell_type": "code",
   "execution_count": 21,
   "outputs": [],
   "source": [
    "indexes = client.collections.retrieve()"
   ],
   "metadata": {
    "collapsed": false,
    "ExecuteTime": {
     "end_time": "2023-08-20T14:40:14.390827980Z",
     "start_time": "2023-08-20T14:40:14.386709137Z"
    }
   },
   "id": "dc906aa9ff95f800"
  },
  {
   "cell_type": "code",
   "execution_count": 25,
   "outputs": [
    {
     "data": {
      "text/plain": "'news'"
     },
     "execution_count": 25,
     "metadata": {},
     "output_type": "execute_result"
    }
   ],
   "source": [
    "indexes[0]['name']"
   ],
   "metadata": {
    "collapsed": false,
    "ExecuteTime": {
     "end_time": "2023-08-20T14:42:00.698683316Z",
     "start_time": "2023-08-20T14:42:00.656377365Z"
    }
   },
   "id": "7894a1258983e5f2"
  },
  {
   "cell_type": "code",
   "execution_count": null,
   "outputs": [],
   "source": [],
   "metadata": {
    "collapsed": false
   },
   "id": "f1ba1857e17d933c"
  }
 ],
 "metadata": {
  "kernelspec": {
   "display_name": "Python 3",
   "language": "python",
   "name": "python3"
  },
  "language_info": {
   "codemirror_mode": {
    "name": "ipython",
    "version": 2
   },
   "file_extension": ".py",
   "mimetype": "text/x-python",
   "name": "python",
   "nbconvert_exporter": "python",
   "pygments_lexer": "ipython2",
   "version": "2.7.6"
  }
 },
 "nbformat": 4,
 "nbformat_minor": 5
}
